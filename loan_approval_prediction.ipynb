{
  "nbformat": 4,
  "nbformat_minor": 0,
  "metadata": {
    "colab": {
      "provenance": [],
      "collapsed_sections": [],
      "mount_file_id": "188M0TWIgSIvwaiS1UAJLMtERlqTA0eq0",
      "authorship_tag": "ABX9TyP5nJ2f3WYzJ6zsDSWbh6SD",
      "include_colab_link": true
    },
    "kernelspec": {
      "name": "python3",
      "display_name": "Python 3"
    },
    "language_info": {
      "name": "python"
    }
  },
  "cells": [
    {
      "cell_type": "markdown",
      "metadata": {
        "id": "view-in-github",
        "colab_type": "text"
      },
      "source": [
        "<a href=\"https://colab.research.google.com/github/duynguyen02/tls_ml_loan_prediction_1/blob/main/loan_approval_prediction.ipynb\" target=\"_parent\"><img src=\"https://colab.research.google.com/assets/colab-badge.svg\" alt=\"Open In Colab\"/></a>"
      ]
    },
    {
      "cell_type": "markdown",
      "source": [
        "Lợi nhuận của ngân hàng được tạo ra phần lớn thông qua các khoản vay. Mặc dù có rất nhiều người đăng ký cho các khoản vay, nhưng khó để chọn người có khả năng chi trả các khoản đã vay. Với việc thực hiện xác định bằng thủ công sẽ gặp rất nhiều vấn đề bất cập và sai sót xảy ra. Vì vậy việc ứng dụng Machine Learning trong việc dự đoán khả năng chi trả các khoản vay là một việc làm cần thiết để phân tích thông kê và đưa ra các quyết định để xác nhận các khoản cho phép vay phù hợp."
      ],
      "metadata": {
        "id": "SZFt91ORV6Nz"
      }
    },
    {
      "cell_type": "code",
      "execution_count": 239,
      "metadata": {
        "id": "sesmUPudOXz7"
      },
      "outputs": [],
      "source": [
        "import numpy as np\n",
        "import pandas as pd\n",
        "import seaborn as sns\n",
        "import matplotlib.pyplot as plt"
      ]
    },
    {
      "cell_type": "markdown",
      "source": [
        "### Trình diễn tập dữ liệu"
      ],
      "metadata": {
        "id": "KyWOsOGaO66w"
      }
    },
    {
      "cell_type": "code",
      "source": [
        "# độc tập dữ liệu và xuất 1 vài kết quả đầu tiên\n",
        "loan_app_df = pd.read_csv('/content/drive/MyDrive/train_csv.csv')\n",
        "loan_app_df.head()"
      ],
      "metadata": {
        "colab": {
          "base_uri": "https://localhost:8080/",
          "height": 250
        },
        "id": "Ko8UKBYVO0fu",
        "outputId": "fcf7ad2b-9ec8-4314-bb2f-3620eb4427a1"
      },
      "execution_count": 240,
      "outputs": [
        {
          "output_type": "execute_result",
          "data": {
            "text/plain": [
              "    Loan_ID Gender Married Dependents     Education Self_Employed  \\\n",
              "0  LP001002   Male      No          0      Graduate            No   \n",
              "1  LP001003   Male     Yes          1      Graduate            No   \n",
              "2  LP001005   Male     Yes          0      Graduate           Yes   \n",
              "3  LP001006   Male     Yes          0  Not Graduate            No   \n",
              "4  LP001008   Male      No          0      Graduate            No   \n",
              "\n",
              "   ApplicantIncome  CoapplicantIncome  LoanAmount  Loan_Amount_Term  \\\n",
              "0             5849                0.0         NaN             360.0   \n",
              "1             4583             1508.0       128.0             360.0   \n",
              "2             3000                0.0        66.0             360.0   \n",
              "3             2583             2358.0       120.0             360.0   \n",
              "4             6000                0.0       141.0             360.0   \n",
              "\n",
              "   Credit_History Property_Area Loan_Status  \n",
              "0             1.0         Urban           Y  \n",
              "1             1.0         Rural           N  \n",
              "2             1.0         Urban           Y  \n",
              "3             1.0         Urban           Y  \n",
              "4             1.0         Urban           Y  "
            ],
            "text/html": [
              "\n",
              "  <div id=\"df-d52c496f-8f31-4522-be55-a7824d5c2c3f\">\n",
              "    <div class=\"colab-df-container\">\n",
              "      <div>\n",
              "<style scoped>\n",
              "    .dataframe tbody tr th:only-of-type {\n",
              "        vertical-align: middle;\n",
              "    }\n",
              "\n",
              "    .dataframe tbody tr th {\n",
              "        vertical-align: top;\n",
              "    }\n",
              "\n",
              "    .dataframe thead th {\n",
              "        text-align: right;\n",
              "    }\n",
              "</style>\n",
              "<table border=\"1\" class=\"dataframe\">\n",
              "  <thead>\n",
              "    <tr style=\"text-align: right;\">\n",
              "      <th></th>\n",
              "      <th>Loan_ID</th>\n",
              "      <th>Gender</th>\n",
              "      <th>Married</th>\n",
              "      <th>Dependents</th>\n",
              "      <th>Education</th>\n",
              "      <th>Self_Employed</th>\n",
              "      <th>ApplicantIncome</th>\n",
              "      <th>CoapplicantIncome</th>\n",
              "      <th>LoanAmount</th>\n",
              "      <th>Loan_Amount_Term</th>\n",
              "      <th>Credit_History</th>\n",
              "      <th>Property_Area</th>\n",
              "      <th>Loan_Status</th>\n",
              "    </tr>\n",
              "  </thead>\n",
              "  <tbody>\n",
              "    <tr>\n",
              "      <th>0</th>\n",
              "      <td>LP001002</td>\n",
              "      <td>Male</td>\n",
              "      <td>No</td>\n",
              "      <td>0</td>\n",
              "      <td>Graduate</td>\n",
              "      <td>No</td>\n",
              "      <td>5849</td>\n",
              "      <td>0.0</td>\n",
              "      <td>NaN</td>\n",
              "      <td>360.0</td>\n",
              "      <td>1.0</td>\n",
              "      <td>Urban</td>\n",
              "      <td>Y</td>\n",
              "    </tr>\n",
              "    <tr>\n",
              "      <th>1</th>\n",
              "      <td>LP001003</td>\n",
              "      <td>Male</td>\n",
              "      <td>Yes</td>\n",
              "      <td>1</td>\n",
              "      <td>Graduate</td>\n",
              "      <td>No</td>\n",
              "      <td>4583</td>\n",
              "      <td>1508.0</td>\n",
              "      <td>128.0</td>\n",
              "      <td>360.0</td>\n",
              "      <td>1.0</td>\n",
              "      <td>Rural</td>\n",
              "      <td>N</td>\n",
              "    </tr>\n",
              "    <tr>\n",
              "      <th>2</th>\n",
              "      <td>LP001005</td>\n",
              "      <td>Male</td>\n",
              "      <td>Yes</td>\n",
              "      <td>0</td>\n",
              "      <td>Graduate</td>\n",
              "      <td>Yes</td>\n",
              "      <td>3000</td>\n",
              "      <td>0.0</td>\n",
              "      <td>66.0</td>\n",
              "      <td>360.0</td>\n",
              "      <td>1.0</td>\n",
              "      <td>Urban</td>\n",
              "      <td>Y</td>\n",
              "    </tr>\n",
              "    <tr>\n",
              "      <th>3</th>\n",
              "      <td>LP001006</td>\n",
              "      <td>Male</td>\n",
              "      <td>Yes</td>\n",
              "      <td>0</td>\n",
              "      <td>Not Graduate</td>\n",
              "      <td>No</td>\n",
              "      <td>2583</td>\n",
              "      <td>2358.0</td>\n",
              "      <td>120.0</td>\n",
              "      <td>360.0</td>\n",
              "      <td>1.0</td>\n",
              "      <td>Urban</td>\n",
              "      <td>Y</td>\n",
              "    </tr>\n",
              "    <tr>\n",
              "      <th>4</th>\n",
              "      <td>LP001008</td>\n",
              "      <td>Male</td>\n",
              "      <td>No</td>\n",
              "      <td>0</td>\n",
              "      <td>Graduate</td>\n",
              "      <td>No</td>\n",
              "      <td>6000</td>\n",
              "      <td>0.0</td>\n",
              "      <td>141.0</td>\n",
              "      <td>360.0</td>\n",
              "      <td>1.0</td>\n",
              "      <td>Urban</td>\n",
              "      <td>Y</td>\n",
              "    </tr>\n",
              "  </tbody>\n",
              "</table>\n",
              "</div>\n",
              "      <button class=\"colab-df-convert\" onclick=\"convertToInteractive('df-d52c496f-8f31-4522-be55-a7824d5c2c3f')\"\n",
              "              title=\"Convert this dataframe to an interactive table.\"\n",
              "              style=\"display:none;\">\n",
              "        \n",
              "  <svg xmlns=\"http://www.w3.org/2000/svg\" height=\"24px\"viewBox=\"0 0 24 24\"\n",
              "       width=\"24px\">\n",
              "    <path d=\"M0 0h24v24H0V0z\" fill=\"none\"/>\n",
              "    <path d=\"M18.56 5.44l.94 2.06.94-2.06 2.06-.94-2.06-.94-.94-2.06-.94 2.06-2.06.94zm-11 1L8.5 8.5l.94-2.06 2.06-.94-2.06-.94L8.5 2.5l-.94 2.06-2.06.94zm10 10l.94 2.06.94-2.06 2.06-.94-2.06-.94-.94-2.06-.94 2.06-2.06.94z\"/><path d=\"M17.41 7.96l-1.37-1.37c-.4-.4-.92-.59-1.43-.59-.52 0-1.04.2-1.43.59L10.3 9.45l-7.72 7.72c-.78.78-.78 2.05 0 2.83L4 21.41c.39.39.9.59 1.41.59.51 0 1.02-.2 1.41-.59l7.78-7.78 2.81-2.81c.8-.78.8-2.07 0-2.86zM5.41 20L4 18.59l7.72-7.72 1.47 1.35L5.41 20z\"/>\n",
              "  </svg>\n",
              "      </button>\n",
              "      \n",
              "  <style>\n",
              "    .colab-df-container {\n",
              "      display:flex;\n",
              "      flex-wrap:wrap;\n",
              "      gap: 12px;\n",
              "    }\n",
              "\n",
              "    .colab-df-convert {\n",
              "      background-color: #E8F0FE;\n",
              "      border: none;\n",
              "      border-radius: 50%;\n",
              "      cursor: pointer;\n",
              "      display: none;\n",
              "      fill: #1967D2;\n",
              "      height: 32px;\n",
              "      padding: 0 0 0 0;\n",
              "      width: 32px;\n",
              "    }\n",
              "\n",
              "    .colab-df-convert:hover {\n",
              "      background-color: #E2EBFA;\n",
              "      box-shadow: 0px 1px 2px rgba(60, 64, 67, 0.3), 0px 1px 3px 1px rgba(60, 64, 67, 0.15);\n",
              "      fill: #174EA6;\n",
              "    }\n",
              "\n",
              "    [theme=dark] .colab-df-convert {\n",
              "      background-color: #3B4455;\n",
              "      fill: #D2E3FC;\n",
              "    }\n",
              "\n",
              "    [theme=dark] .colab-df-convert:hover {\n",
              "      background-color: #434B5C;\n",
              "      box-shadow: 0px 1px 3px 1px rgba(0, 0, 0, 0.15);\n",
              "      filter: drop-shadow(0px 1px 2px rgba(0, 0, 0, 0.3));\n",
              "      fill: #FFFFFF;\n",
              "    }\n",
              "  </style>\n",
              "\n",
              "      <script>\n",
              "        const buttonEl =\n",
              "          document.querySelector('#df-d52c496f-8f31-4522-be55-a7824d5c2c3f button.colab-df-convert');\n",
              "        buttonEl.style.display =\n",
              "          google.colab.kernel.accessAllowed ? 'block' : 'none';\n",
              "\n",
              "        async function convertToInteractive(key) {\n",
              "          const element = document.querySelector('#df-d52c496f-8f31-4522-be55-a7824d5c2c3f');\n",
              "          const dataTable =\n",
              "            await google.colab.kernel.invokeFunction('convertToInteractive',\n",
              "                                                     [key], {});\n",
              "          if (!dataTable) return;\n",
              "\n",
              "          const docLinkHtml = 'Like what you see? Visit the ' +\n",
              "            '<a target=\"_blank\" href=https://colab.research.google.com/notebooks/data_table.ipynb>data table notebook</a>'\n",
              "            + ' to learn more about interactive tables.';\n",
              "          element.innerHTML = '';\n",
              "          dataTable['output_type'] = 'display_data';\n",
              "          await google.colab.output.renderOutput(dataTable, element);\n",
              "          const docLink = document.createElement('div');\n",
              "          docLink.innerHTML = docLinkHtml;\n",
              "          element.appendChild(docLink);\n",
              "        }\n",
              "      </script>\n",
              "    </div>\n",
              "  </div>\n",
              "  "
            ]
          },
          "metadata": {},
          "execution_count": 240
        }
      ]
    },
    {
      "cell_type": "code",
      "source": [
        "# xuất số lượng dữ liệu\n",
        "loan_app_df.shape"
      ],
      "metadata": {
        "colab": {
          "base_uri": "https://localhost:8080/"
        },
        "id": "j10RlxORPv8A",
        "outputId": "d97a5292-59c4-4c44-f9a3-cf74b7511233"
      },
      "execution_count": 241,
      "outputs": [
        {
          "output_type": "execute_result",
          "data": {
            "text/plain": [
              "(614, 13)"
            ]
          },
          "metadata": {},
          "execution_count": 241
        }
      ]
    },
    {
      "cell_type": "code",
      "source": [
        "# xuất thông tin các tên cột\n",
        "loan_app_df.columns"
      ],
      "metadata": {
        "colab": {
          "base_uri": "https://localhost:8080/"
        },
        "id": "BCW_eHtWP0ti",
        "outputId": "8d17723c-214c-4aff-c215-eb9e6d47905f"
      },
      "execution_count": 242,
      "outputs": [
        {
          "output_type": "execute_result",
          "data": {
            "text/plain": [
              "Index(['Loan_ID', 'Gender', 'Married', 'Dependents', 'Education',\n",
              "       'Self_Employed', 'ApplicantIncome', 'CoapplicantIncome', 'LoanAmount',\n",
              "       'Loan_Amount_Term', 'Credit_History', 'Property_Area', 'Loan_Status'],\n",
              "      dtype='object')"
            ]
          },
          "metadata": {},
          "execution_count": 242
        }
      ]
    },
    {
      "cell_type": "code",
      "source": [
        "# xuất thông tin kiểu dữ liệu và số lượng dữ liệu của từng cột\n",
        "loan_app_df.info()"
      ],
      "metadata": {
        "colab": {
          "base_uri": "https://localhost:8080/"
        },
        "id": "4mt2lABIQGVt",
        "outputId": "81433991-b8f8-49d8-af8a-b9ee81d6a93d"
      },
      "execution_count": 243,
      "outputs": [
        {
          "output_type": "stream",
          "name": "stdout",
          "text": [
            "<class 'pandas.core.frame.DataFrame'>\n",
            "RangeIndex: 614 entries, 0 to 613\n",
            "Data columns (total 13 columns):\n",
            " #   Column             Non-Null Count  Dtype  \n",
            "---  ------             --------------  -----  \n",
            " 0   Loan_ID            614 non-null    object \n",
            " 1   Gender             601 non-null    object \n",
            " 2   Married            611 non-null    object \n",
            " 3   Dependents         599 non-null    object \n",
            " 4   Education          614 non-null    object \n",
            " 5   Self_Employed      582 non-null    object \n",
            " 6   ApplicantIncome    614 non-null    int64  \n",
            " 7   CoapplicantIncome  614 non-null    float64\n",
            " 8   LoanAmount         592 non-null    float64\n",
            " 9   Loan_Amount_Term   600 non-null    float64\n",
            " 10  Credit_History     564 non-null    float64\n",
            " 11  Property_Area      614 non-null    object \n",
            " 12  Loan_Status        614 non-null    object \n",
            "dtypes: float64(4), int64(1), object(8)\n",
            "memory usage: 62.5+ KB\n"
          ]
        }
      ]
    },
    {
      "cell_type": "code",
      "source": [
        "# xuất thông tin mô tả về trung bình, độ lệch chuẩn,... của tập dữ liệu\n",
        "loan_app_df.describe()"
      ],
      "metadata": {
        "colab": {
          "base_uri": "https://localhost:8080/",
          "height": 300
        },
        "id": "CmVZGA4oQLCp",
        "outputId": "1539f2f4-f15f-40eb-898d-6fb2b589b9a1"
      },
      "execution_count": 244,
      "outputs": [
        {
          "output_type": "execute_result",
          "data": {
            "text/plain": [
              "       ApplicantIncome  CoapplicantIncome  LoanAmount  Loan_Amount_Term  \\\n",
              "count       614.000000         614.000000  592.000000         600.00000   \n",
              "mean       5403.459283        1621.245798  146.412162         342.00000   \n",
              "std        6109.041673        2926.248369   85.587325          65.12041   \n",
              "min         150.000000           0.000000    9.000000          12.00000   \n",
              "25%        2877.500000           0.000000  100.000000         360.00000   \n",
              "50%        3812.500000        1188.500000  128.000000         360.00000   \n",
              "75%        5795.000000        2297.250000  168.000000         360.00000   \n",
              "max       81000.000000       41667.000000  700.000000         480.00000   \n",
              "\n",
              "       Credit_History  \n",
              "count      564.000000  \n",
              "mean         0.842199  \n",
              "std          0.364878  \n",
              "min          0.000000  \n",
              "25%          1.000000  \n",
              "50%          1.000000  \n",
              "75%          1.000000  \n",
              "max          1.000000  "
            ],
            "text/html": [
              "\n",
              "  <div id=\"df-d4cf940b-0ec7-4e51-aba1-dfe21730df9c\">\n",
              "    <div class=\"colab-df-container\">\n",
              "      <div>\n",
              "<style scoped>\n",
              "    .dataframe tbody tr th:only-of-type {\n",
              "        vertical-align: middle;\n",
              "    }\n",
              "\n",
              "    .dataframe tbody tr th {\n",
              "        vertical-align: top;\n",
              "    }\n",
              "\n",
              "    .dataframe thead th {\n",
              "        text-align: right;\n",
              "    }\n",
              "</style>\n",
              "<table border=\"1\" class=\"dataframe\">\n",
              "  <thead>\n",
              "    <tr style=\"text-align: right;\">\n",
              "      <th></th>\n",
              "      <th>ApplicantIncome</th>\n",
              "      <th>CoapplicantIncome</th>\n",
              "      <th>LoanAmount</th>\n",
              "      <th>Loan_Amount_Term</th>\n",
              "      <th>Credit_History</th>\n",
              "    </tr>\n",
              "  </thead>\n",
              "  <tbody>\n",
              "    <tr>\n",
              "      <th>count</th>\n",
              "      <td>614.000000</td>\n",
              "      <td>614.000000</td>\n",
              "      <td>592.000000</td>\n",
              "      <td>600.00000</td>\n",
              "      <td>564.000000</td>\n",
              "    </tr>\n",
              "    <tr>\n",
              "      <th>mean</th>\n",
              "      <td>5403.459283</td>\n",
              "      <td>1621.245798</td>\n",
              "      <td>146.412162</td>\n",
              "      <td>342.00000</td>\n",
              "      <td>0.842199</td>\n",
              "    </tr>\n",
              "    <tr>\n",
              "      <th>std</th>\n",
              "      <td>6109.041673</td>\n",
              "      <td>2926.248369</td>\n",
              "      <td>85.587325</td>\n",
              "      <td>65.12041</td>\n",
              "      <td>0.364878</td>\n",
              "    </tr>\n",
              "    <tr>\n",
              "      <th>min</th>\n",
              "      <td>150.000000</td>\n",
              "      <td>0.000000</td>\n",
              "      <td>9.000000</td>\n",
              "      <td>12.00000</td>\n",
              "      <td>0.000000</td>\n",
              "    </tr>\n",
              "    <tr>\n",
              "      <th>25%</th>\n",
              "      <td>2877.500000</td>\n",
              "      <td>0.000000</td>\n",
              "      <td>100.000000</td>\n",
              "      <td>360.00000</td>\n",
              "      <td>1.000000</td>\n",
              "    </tr>\n",
              "    <tr>\n",
              "      <th>50%</th>\n",
              "      <td>3812.500000</td>\n",
              "      <td>1188.500000</td>\n",
              "      <td>128.000000</td>\n",
              "      <td>360.00000</td>\n",
              "      <td>1.000000</td>\n",
              "    </tr>\n",
              "    <tr>\n",
              "      <th>75%</th>\n",
              "      <td>5795.000000</td>\n",
              "      <td>2297.250000</td>\n",
              "      <td>168.000000</td>\n",
              "      <td>360.00000</td>\n",
              "      <td>1.000000</td>\n",
              "    </tr>\n",
              "    <tr>\n",
              "      <th>max</th>\n",
              "      <td>81000.000000</td>\n",
              "      <td>41667.000000</td>\n",
              "      <td>700.000000</td>\n",
              "      <td>480.00000</td>\n",
              "      <td>1.000000</td>\n",
              "    </tr>\n",
              "  </tbody>\n",
              "</table>\n",
              "</div>\n",
              "      <button class=\"colab-df-convert\" onclick=\"convertToInteractive('df-d4cf940b-0ec7-4e51-aba1-dfe21730df9c')\"\n",
              "              title=\"Convert this dataframe to an interactive table.\"\n",
              "              style=\"display:none;\">\n",
              "        \n",
              "  <svg xmlns=\"http://www.w3.org/2000/svg\" height=\"24px\"viewBox=\"0 0 24 24\"\n",
              "       width=\"24px\">\n",
              "    <path d=\"M0 0h24v24H0V0z\" fill=\"none\"/>\n",
              "    <path d=\"M18.56 5.44l.94 2.06.94-2.06 2.06-.94-2.06-.94-.94-2.06-.94 2.06-2.06.94zm-11 1L8.5 8.5l.94-2.06 2.06-.94-2.06-.94L8.5 2.5l-.94 2.06-2.06.94zm10 10l.94 2.06.94-2.06 2.06-.94-2.06-.94-.94-2.06-.94 2.06-2.06.94z\"/><path d=\"M17.41 7.96l-1.37-1.37c-.4-.4-.92-.59-1.43-.59-.52 0-1.04.2-1.43.59L10.3 9.45l-7.72 7.72c-.78.78-.78 2.05 0 2.83L4 21.41c.39.39.9.59 1.41.59.51 0 1.02-.2 1.41-.59l7.78-7.78 2.81-2.81c.8-.78.8-2.07 0-2.86zM5.41 20L4 18.59l7.72-7.72 1.47 1.35L5.41 20z\"/>\n",
              "  </svg>\n",
              "      </button>\n",
              "      \n",
              "  <style>\n",
              "    .colab-df-container {\n",
              "      display:flex;\n",
              "      flex-wrap:wrap;\n",
              "      gap: 12px;\n",
              "    }\n",
              "\n",
              "    .colab-df-convert {\n",
              "      background-color: #E8F0FE;\n",
              "      border: none;\n",
              "      border-radius: 50%;\n",
              "      cursor: pointer;\n",
              "      display: none;\n",
              "      fill: #1967D2;\n",
              "      height: 32px;\n",
              "      padding: 0 0 0 0;\n",
              "      width: 32px;\n",
              "    }\n",
              "\n",
              "    .colab-df-convert:hover {\n",
              "      background-color: #E2EBFA;\n",
              "      box-shadow: 0px 1px 2px rgba(60, 64, 67, 0.3), 0px 1px 3px 1px rgba(60, 64, 67, 0.15);\n",
              "      fill: #174EA6;\n",
              "    }\n",
              "\n",
              "    [theme=dark] .colab-df-convert {\n",
              "      background-color: #3B4455;\n",
              "      fill: #D2E3FC;\n",
              "    }\n",
              "\n",
              "    [theme=dark] .colab-df-convert:hover {\n",
              "      background-color: #434B5C;\n",
              "      box-shadow: 0px 1px 3px 1px rgba(0, 0, 0, 0.15);\n",
              "      filter: drop-shadow(0px 1px 2px rgba(0, 0, 0, 0.3));\n",
              "      fill: #FFFFFF;\n",
              "    }\n",
              "  </style>\n",
              "\n",
              "      <script>\n",
              "        const buttonEl =\n",
              "          document.querySelector('#df-d4cf940b-0ec7-4e51-aba1-dfe21730df9c button.colab-df-convert');\n",
              "        buttonEl.style.display =\n",
              "          google.colab.kernel.accessAllowed ? 'block' : 'none';\n",
              "\n",
              "        async function convertToInteractive(key) {\n",
              "          const element = document.querySelector('#df-d4cf940b-0ec7-4e51-aba1-dfe21730df9c');\n",
              "          const dataTable =\n",
              "            await google.colab.kernel.invokeFunction('convertToInteractive',\n",
              "                                                     [key], {});\n",
              "          if (!dataTable) return;\n",
              "\n",
              "          const docLinkHtml = 'Like what you see? Visit the ' +\n",
              "            '<a target=\"_blank\" href=https://colab.research.google.com/notebooks/data_table.ipynb>data table notebook</a>'\n",
              "            + ' to learn more about interactive tables.';\n",
              "          element.innerHTML = '';\n",
              "          dataTable['output_type'] = 'display_data';\n",
              "          await google.colab.output.renderOutput(dataTable, element);\n",
              "          const docLink = document.createElement('div');\n",
              "          docLink.innerHTML = docLinkHtml;\n",
              "          element.appendChild(docLink);\n",
              "        }\n",
              "      </script>\n",
              "    </div>\n",
              "  </div>\n",
              "  "
            ]
          },
          "metadata": {},
          "execution_count": 244
        }
      ]
    },
    {
      "cell_type": "markdown",
      "source": [
        "### Tiền xử lý dữ liệu"
      ],
      "metadata": {
        "id": "c_o0-eSeQZTl"
      }
    },
    {
      "cell_type": "markdown",
      "source": [
        "Ta nhận thấy tập dữ liệu có số lượng bản ghi khá thấp vì vậy ta sẽ lắp vào dữ liệu bị thiếu bằng các dữ liệu tương tự chứ không thể nào xóa đi bởi sẽ làm giảm hiệu quả của việc phân tích."
      ],
      "metadata": {
        "id": "nXmqoeFJVLLy"
      }
    },
    {
      "cell_type": "code",
      "source": [
        "# đếm các số lượng các dữ liệu bị thiếu theo từng cột\n",
        "loan_app_df.isnull().sum()"
      ],
      "metadata": {
        "colab": {
          "base_uri": "https://localhost:8080/"
        },
        "id": "zpg7semCQc2G",
        "outputId": "add6c693-65c6-42c2-9a58-3433592fc2b7"
      },
      "execution_count": 245,
      "outputs": [
        {
          "output_type": "execute_result",
          "data": {
            "text/plain": [
              "Loan_ID               0\n",
              "Gender               13\n",
              "Married               3\n",
              "Dependents           15\n",
              "Education             0\n",
              "Self_Employed        32\n",
              "ApplicantIncome       0\n",
              "CoapplicantIncome     0\n",
              "LoanAmount           22\n",
              "Loan_Amount_Term     14\n",
              "Credit_History       50\n",
              "Property_Area         0\n",
              "Loan_Status           0\n",
              "dtype: int64"
            ]
          },
          "metadata": {},
          "execution_count": 245
        }
      ]
    },
    {
      "cell_type": "code",
      "source": [
        "# nhận thấy ở vài cột có kiểu dữ liệu số có giá trị giống nhau khá lớn \n",
        "# nên ta kiểm tra xem điều đó có chính xác hay không\n",
        "\n",
        "loan_app_df['Loan_Amount_Term'].value_counts()"
      ],
      "metadata": {
        "colab": {
          "base_uri": "https://localhost:8080/"
        },
        "id": "WpQGb2DZRlbP",
        "outputId": "f42d5e9f-374e-444c-b5d8-960707573cd2"
      },
      "execution_count": 246,
      "outputs": [
        {
          "output_type": "execute_result",
          "data": {
            "text/plain": [
              "360.0    512\n",
              "180.0     44\n",
              "480.0     15\n",
              "300.0     13\n",
              "240.0      4\n",
              "84.0       4\n",
              "120.0      3\n",
              "60.0       2\n",
              "36.0       2\n",
              "12.0       1\n",
              "Name: Loan_Amount_Term, dtype: int64"
            ]
          },
          "metadata": {},
          "execution_count": 246
        }
      ]
    },
    {
      "cell_type": "code",
      "source": [
        "loan_app_df['Credit_History'].value_counts()"
      ],
      "metadata": {
        "colab": {
          "base_uri": "https://localhost:8080/"
        },
        "id": "dIh08rdkSeU4",
        "outputId": "21c6104e-8ce1-4444-ccfe-31ebe7a7ab42"
      },
      "execution_count": 247,
      "outputs": [
        {
          "output_type": "execute_result",
          "data": {
            "text/plain": [
              "1.0    475\n",
              "0.0     89\n",
              "Name: Credit_History, dtype: int64"
            ]
          },
          "metadata": {},
          "execution_count": 247
        }
      ]
    },
    {
      "cell_type": "markdown",
      "source": [
        "Ta nhận thấy ở Loan_Amount_Term và Credit_History số lượng các kết quả khác nhau quá thấp vì vậy ta chọn kết quả xuất hiện nhiều nhất lắp vào chỗ còn thiếu tương tự các cột thể hiện kiểu dữ liệu object"
      ],
      "metadata": {
        "id": "RJHIm48JS2TY"
      }
    },
    {
      "cell_type": "code",
      "source": [
        "# lắp giá trị xuất hiện nhiều nhất vào các giá trị null\n",
        "loan_app_df['Gender'].fillna(loan_app_df['Gender'].dropna().mode().values[0], inplace=True)\n",
        "loan_app_df['Married'].fillna(loan_app_df['Married'].dropna().mode().values[0], inplace=True)\n",
        "loan_app_df['Dependents'].fillna(loan_app_df['Dependents'].dropna().mode().values[0], inplace=True)\n",
        "loan_app_df['Self_Employed'].fillna(loan_app_df['Self_Employed'].dropna().mode().values[0], inplace=True)\n",
        "\n",
        "loan_app_df['Loan_Amount_Term'].fillna(loan_app_df['Loan_Amount_Term'].dropna().mode().values[0], inplace=True)\n",
        "loan_app_df['Credit_History'].fillna(loan_app_df['Credit_History'].dropna().mode().values[0], inplace=True)\n",
        "\n",
        "\n",
        "# lắp giá trị trung bình của toàn tập dữ liệu\n",
        "loan_app_df['LoanAmount'].fillna(loan_app_df['LoanAmount'].dropna().mean(), inplace=True)"
      ],
      "metadata": {
        "id": "Uund4IBSRQXD"
      },
      "execution_count": 248,
      "outputs": []
    },
    {
      "cell_type": "code",
      "source": [
        "# kiểm tra lại xem dữ liệu còn thiếu hay không\n",
        "loan_app_df.isnull().sum()"
      ],
      "metadata": {
        "colab": {
          "base_uri": "https://localhost:8080/"
        },
        "id": "WnlherUpVCQV",
        "outputId": "0c5b820d-b070-44e4-d894-dc4304bc77c4"
      },
      "execution_count": 249,
      "outputs": [
        {
          "output_type": "execute_result",
          "data": {
            "text/plain": [
              "Loan_ID              0\n",
              "Gender               0\n",
              "Married              0\n",
              "Dependents           0\n",
              "Education            0\n",
              "Self_Employed        0\n",
              "ApplicantIncome      0\n",
              "CoapplicantIncome    0\n",
              "LoanAmount           0\n",
              "Loan_Amount_Term     0\n",
              "Credit_History       0\n",
              "Property_Area        0\n",
              "Loan_Status          0\n",
              "dtype: int64"
            ]
          },
          "metadata": {},
          "execution_count": 249
        }
      ]
    },
    {
      "cell_type": "markdown",
      "source": [
        "### Data Visualization"
      ],
      "metadata": {
        "id": "HLhPIhPFV_xG"
      }
    },
    {
      "cell_type": "code",
      "source": [
        "# biểu đồ thể hiện số người đăng ký khoản vay theo giới tính\n",
        "sns.countplot(x='Gender', data=loan_app_df)"
      ],
      "metadata": {
        "colab": {
          "base_uri": "https://localhost:8080/",
          "height": 296
        },
        "id": "abRZvdnZWC20",
        "outputId": "2b95cdc8-3045-4f30-8572-24cd7cfa5b41"
      },
      "execution_count": 250,
      "outputs": [
        {
          "output_type": "execute_result",
          "data": {
            "text/plain": [
              "<matplotlib.axes._subplots.AxesSubplot at 0x7fb930a97c50>"
            ]
          },
          "metadata": {},
          "execution_count": 250
        },
        {
          "output_type": "display_data",
          "data": {
            "text/plain": [
              "<Figure size 432x288 with 1 Axes>"
            ],
            "image/png": "[encoded data removed]"
          },
          "metadata": {
            "needs_background": "light"
          }
        }
      ]
    },
    {
      "cell_type": "markdown",
      "source": [
        "Ta nhận thấy số lượng người đăng ký khoản vay phần lớn giới tính là Male"
      ],
      "metadata": {
        "id": "ra68kyNkW5hu"
      }
    },
    {
      "cell_type": "code",
      "source": [
        "# biểu đồ thể hiện số người đăng ký khoản vay theo tình trạng hôn nhân\n",
        "sns.countplot(x='Married', data=loan_app_df)"
      ],
      "metadata": {
        "colab": {
          "base_uri": "https://localhost:8080/",
          "height": 296
        },
        "id": "H91edGVkYOAw",
        "outputId": "add292f1-4ea9-4996-9934-32ef21afa52b"
      },
      "execution_count": 251,
      "outputs": [
        {
          "output_type": "execute_result",
          "data": {
            "text/plain": [
              "<matplotlib.axes._subplots.AxesSubplot at 0x7fb93670dc50>"
            ]
          },
          "metadata": {},
          "execution_count": 251
        },
        {
          "output_type": "display_data",
          "data": {
            "text/plain": [
              "<Figure size 432x288 with 1 Axes>"
            ],
            "image/png": "[encoded data removed]"
          },
          "metadata": {
            "needs_background": "light"
          }
        }
      ]
    },
    {
      "cell_type": "markdown",
      "source": [
        "Ta nhận thấy số lượng người đăng ký khoản vay phần lớn đã kết hôn"
      ],
      "metadata": {
        "id": "-GE5hTIAYeME"
      }
    },
    {
      "cell_type": "code",
      "source": [
        "# biểu đồ thể hiện số người đăng ký khoản vay theo số người phụ thuộc\n",
        "sns.countplot(x='Dependents', data=loan_app_df)"
      ],
      "metadata": {
        "colab": {
          "base_uri": "https://localhost:8080/",
          "height": 296
        },
        "id": "nKRkV7yKYnN8",
        "outputId": "5a538663-490d-46a4-8dda-b19cadf155fb"
      },
      "execution_count": 252,
      "outputs": [
        {
          "output_type": "execute_result",
          "data": {
            "text/plain": [
              "<matplotlib.axes._subplots.AxesSubplot at 0x7fb931300f50>"
            ]
          },
          "metadata": {},
          "execution_count": 252
        },
        {
          "output_type": "display_data",
          "data": {
            "text/plain": [
              "<Figure size 432x288 with 1 Axes>"
            ],
            "image/png": "[encoded data removed]"
          },
          "metadata": {
            "needs_background": "light"
          }
        }
      ]
    },
    {
      "cell_type": "markdown",
      "source": [
        "Ta nhận thấy số lượng người đăng ký khoản vay phần lớn là không có ai phụ thuộc còn lại các phần nằm ở 1, 2 và 3+"
      ],
      "metadata": {
        "id": "DPRZ86sWYyFk"
      }
    },
    {
      "cell_type": "code",
      "source": [
        "# biểu đồ thể hiện số người đăng ký khoản vay theo trình độ học vấn\n",
        "sns.countplot(x='Education', data=loan_app_df)"
      ],
      "metadata": {
        "colab": {
          "base_uri": "https://localhost:8080/",
          "height": 299
        },
        "id": "OTGf_ho_Y_ED",
        "outputId": "94d99eb4-ecf1-4a39-91ad-81e693e04414"
      },
      "execution_count": 253,
      "outputs": [
        {
          "output_type": "execute_result",
          "data": {
            "text/plain": [
              "<matplotlib.axes._subplots.AxesSubplot at 0x7fb931618f10>"
            ]
          },
          "metadata": {},
          "execution_count": 253
        },
        {
          "output_type": "display_data",
          "data": {
            "text/plain": [
              "<Figure size 432x288 with 1 Axes>"
            ],
            "image/png": "[encoded data removed]"
          },
          "metadata": {
            "needs_background": "light"
          }
        }
      ]
    },
    {
      "cell_type": "markdown",
      "source": [
        "Ta nhận thấy số lượng người đăng ký khoản vay phần lớn là đã tốt nghiệp"
      ],
      "metadata": {
        "id": "9BjkAHi4ZNXS"
      }
    },
    {
      "cell_type": "code",
      "source": [
        "# biểu đồ thể hiện số người đăng ký khoản vay theo tự kinh doanh\n",
        "sns.countplot(x='Self_Employed', data=loan_app_df)"
      ],
      "metadata": {
        "colab": {
          "base_uri": "https://localhost:8080/",
          "height": 297
        },
        "id": "XxmdvejxZWJ2",
        "outputId": "2127476b-2144-42b9-844f-f336998ba580"
      },
      "execution_count": 254,
      "outputs": [
        {
          "output_type": "execute_result",
          "data": {
            "text/plain": [
              "<matplotlib.axes._subplots.AxesSubplot at 0x7fb9312b7110>"
            ]
          },
          "metadata": {},
          "execution_count": 254
        },
        {
          "output_type": "display_data",
          "data": {
            "text/plain": [
              "<Figure size 432x288 with 1 Axes>"
            ],
            "image/png": "[encoded data removed]"
          },
          "metadata": {
            "needs_background": "light"
          }
        }
      ]
    },
    {
      "cell_type": "markdown",
      "source": [
        "Ta nhận thấy số lượng người đăng ký khoản vay phần lớn là không phải người tự kinh doanh"
      ],
      "metadata": {
        "id": "bHKi96tzZhyg"
      }
    },
    {
      "cell_type": "code",
      "source": [
        "# biểu đồ thể hiện số người đăng ký khoản vay theo khu vực\n",
        "sns.countplot(x='Property_Area', data=loan_app_df)"
      ],
      "metadata": {
        "colab": {
          "base_uri": "https://localhost:8080/",
          "height": 297
        },
        "id": "I8GHQJB7ZpfX",
        "outputId": "3522fd41-7d7a-4ff9-e5a0-f54b92f94122"
      },
      "execution_count": 255,
      "outputs": [
        {
          "output_type": "execute_result",
          "data": {
            "text/plain": [
              "<matplotlib.axes._subplots.AxesSubplot at 0x7fb931691950>"
            ]
          },
          "metadata": {},
          "execution_count": 255
        },
        {
          "output_type": "display_data",
          "data": {
            "text/plain": [
              "<Figure size 432x288 with 1 Axes>"
            ],
            "image/png": "[encoded data removed]"
          },
          "metadata": {
            "needs_background": "light"
          }
        }
      ]
    },
    {
      "cell_type": "markdown",
      "source": [
        "Ta nhận thấy số lượng người đăng ký khoản vay theo khu vực không có sự chênh lệch khá lớn, phân bổ đều theo từng vùng"
      ],
      "metadata": {
        "id": "Lc8vE0yoZxgm"
      }
    },
    {
      "cell_type": "code",
      "source": [
        "# biểu đồ thể hiện số người đăng ký khoản vay được chấp thuận vay\n",
        "sns.countplot(x='Loan_Status', data=loan_app_df)"
      ],
      "metadata": {
        "colab": {
          "base_uri": "https://localhost:8080/",
          "height": 297
        },
        "id": "Mbfx42DhaC5v",
        "outputId": "2b420ba4-c070-46e9-8cfc-d91f51bd698d"
      },
      "execution_count": 256,
      "outputs": [
        {
          "output_type": "execute_result",
          "data": {
            "text/plain": [
              "<matplotlib.axes._subplots.AxesSubplot at 0x7fb9312dbcd0>"
            ]
          },
          "metadata": {},
          "execution_count": 256
        },
        {
          "output_type": "display_data",
          "data": {
            "text/plain": [
              "<Figure size 432x288 with 1 Axes>"
            ],
            "image/png": "[encoded data removed]"
          },
          "metadata": {
            "needs_background": "light"
          }
        }
      ]
    },
    {
      "cell_type": "markdown",
      "source": [
        "Ta nhận thấy số lượng người đăng ký khoản vay được chấp thuận theo tập dữ liệu nhiều hơn so với số người không được chấp thuận"
      ],
      "metadata": {
        "id": "QUkRj7szaL5m"
      }
    },
    {
      "cell_type": "code",
      "source": [
        "# biểu đồ thể hiện số người đăng ký khoản vay được chấp thuận vay theo trình độ học vấn\n",
        "sns.countplot(x='Education', hue='Loan_Status', data=loan_app_df)"
      ],
      "metadata": {
        "colab": {
          "base_uri": "https://localhost:8080/",
          "height": 296
        },
        "id": "uFKoAVzHcRIU",
        "outputId": "2a126cd6-c7bd-4db9-c723-c600f09cd828"
      },
      "execution_count": 257,
      "outputs": [
        {
          "output_type": "execute_result",
          "data": {
            "text/plain": [
              "<matplotlib.axes._subplots.AxesSubplot at 0x7fb931356e10>"
            ]
          },
          "metadata": {},
          "execution_count": 257
        },
        {
          "output_type": "display_data",
          "data": {
            "text/plain": [
              "<Figure size 432x288 with 1 Axes>"
            ],
            "image/png": "[encoded data removed]"
          },
          "metadata": {
            "needs_background": "light"
          }
        }
      ]
    },
    {
      "cell_type": "code",
      "source": [
        "# biểu đồ thể hiện số người đăng ký khoản vay được chấp thuận vay theo giới tính\n",
        "sns.countplot(x='Gender', hue='Loan_Status', data=loan_app_df)"
      ],
      "metadata": {
        "colab": {
          "base_uri": "https://localhost:8080/",
          "height": 296
        },
        "id": "oeIYWah2chwo",
        "outputId": "b49d57ef-2417-49b7-a62b-66cb0de70c11"
      },
      "execution_count": 258,
      "outputs": [
        {
          "output_type": "execute_result",
          "data": {
            "text/plain": [
              "<matplotlib.axes._subplots.AxesSubplot at 0x7fb93075f150>"
            ]
          },
          "metadata": {},
          "execution_count": 258
        },
        {
          "output_type": "display_data",
          "data": {
            "text/plain": [
              "<Figure size 432x288 with 1 Axes>"
            ],
            "image/png": "[encoded data removed]"
          },
          "metadata": {
            "needs_background": "light"
          }
        }
      ]
    },
    {
      "cell_type": "code",
      "source": [
        "# biểu đồ thể hiện số người đăng ký khoản vay được chấp thuận vay theo trình trạng hôn nhân\n",
        "sns.countplot(x='Married', hue='Loan_Status', data=loan_app_df)"
      ],
      "metadata": {
        "colab": {
          "base_uri": "https://localhost:8080/",
          "height": 299
        },
        "id": "EJp_K8lictFk",
        "outputId": "0c91a864-601b-4fc2-b5bb-13c2a6e006be"
      },
      "execution_count": 259,
      "outputs": [
        {
          "output_type": "execute_result",
          "data": {
            "text/plain": [
              "<matplotlib.axes._subplots.AxesSubplot at 0x7fb92fae9910>"
            ]
          },
          "metadata": {},
          "execution_count": 259
        },
        {
          "output_type": "display_data",
          "data": {
            "text/plain": [
              "<Figure size 432x288 with 1 Axes>"
            ],
            "image/png": "[encoded data removed]"
          },
          "metadata": {
            "needs_background": "light"
          }
        }
      ]
    },
    {
      "cell_type": "code",
      "source": [
        "# biểu đồ thể hiện số người đăng ký khoản vay được chấp thuận vay theo khu vực\n",
        "sns.countplot(x='Property_Area', hue='Loan_Status', data=loan_app_df)"
      ],
      "metadata": {
        "colab": {
          "base_uri": "https://localhost:8080/",
          "height": 297
        },
        "id": "tTzt-CJHc2ey",
        "outputId": "27379ace-d672-4912-e738-d72a82190362"
      },
      "execution_count": 260,
      "outputs": [
        {
          "output_type": "execute_result",
          "data": {
            "text/plain": [
              "<matplotlib.axes._subplots.AxesSubplot at 0x7fb93145bfd0>"
            ]
          },
          "metadata": {},
          "execution_count": 260
        },
        {
          "output_type": "display_data",
          "data": {
            "text/plain": [
              "<Figure size 432x288 with 1 Axes>"
            ],
            "image/png": "[encoded data removed]"
          },
          "metadata": {
            "needs_background": "light"
          }
        }
      ]
    },
    {
      "cell_type": "code",
      "source": [
        "# biểu đồ thể hiện sự phân bổ số người đăng ký khoản vay thông qua thu nhập, tình trạng hôn nhân và giới tính\n",
        "grid = sns.FacetGrid(loan_app_df, row='Gender', col='Married')\n",
        "grid.map(plt.hist, 'ApplicantIncome')\n",
        "grid.add_legend()"
      ],
      "metadata": {
        "colab": {
          "base_uri": "https://localhost:8080/",
          "height": 458
        },
        "id": "CW5hXbqDef9w",
        "outputId": "3fee206a-f927-4a9b-b7cc-8023e57b658c"
      },
      "execution_count": 261,
      "outputs": [
        {
          "output_type": "execute_result",
          "data": {
            "text/plain": [
              "<seaborn.axisgrid.FacetGrid at 0x7fb9314ecd90>"
            ]
          },
          "metadata": {},
          "execution_count": 261
        },
        {
          "output_type": "display_data",
          "data": {
            "text/plain": [
              "<Figure size 440x432 with 4 Axes>"
            ],
            "image/png": "[encoded data removed]"
          },
          "metadata": {
            "needs_background": "light"
          }
        }
      ]
    },
    {
      "cell_type": "markdown",
      "source": [
        "Ta nhận thấy số người đăng ký khoản vay phần lớn có khoản thu nhập nằm ở khoảng từ 0 đến 20000 với giới tính nam và đã kết hôn"
      ],
      "metadata": {
        "id": "Rvx6xLgveo7r"
      }
    },
    {
      "cell_type": "code",
      "source": [
        "# biểu đồ thể hiện sự phân bổ số người đăng ký khoản vay thông qua thu nhập, trình độ học vấn và giới tính\n",
        "grid = sns.FacetGrid(loan_app_df, row='Gender', col='Education')\n",
        "grid.map(plt.hist, 'ApplicantIncome')\n",
        "grid.add_legend()"
      ],
      "metadata": {
        "colab": {
          "base_uri": "https://localhost:8080/",
          "height": 458
        },
        "id": "0_VEw8SbfRyF",
        "outputId": "5cfbca7c-e3cd-4ed3-993a-ff60cee5f746"
      },
      "execution_count": 262,
      "outputs": [
        {
          "output_type": "execute_result",
          "data": {
            "text/plain": [
              "<seaborn.axisgrid.FacetGrid at 0x7fb92f2e4510>"
            ]
          },
          "metadata": {},
          "execution_count": 262
        },
        {
          "output_type": "display_data",
          "data": {
            "text/plain": [
              "<Figure size 440x432 with 4 Axes>"
            ],
            "image/png": "[encoded data removed]"
          },
          "metadata": {
            "needs_background": "light"
          }
        }
      ]
    },
    {
      "cell_type": "markdown",
      "source": [
        "Ta nhận thấy số người đăng ký khoản vay phần lớn có khoản thu nhập nằm ở khoảng từ 0 đến 20000 có giới tính nam và đã tốt nghiệp"
      ],
      "metadata": {
        "id": "2Upk-h5PfffM"
      }
    },
    {
      "cell_type": "code",
      "source": [
        "# biểu đồ thể hiện sự phân bổ số người đăng ký khoản vay thông qua thu nhập, tự kinh doanh và trình độ học vấn\n",
        "grid = sns.FacetGrid(loan_app_df, row='Self_Employed', col='Education')\n",
        "grid.map(plt.hist, 'ApplicantIncome')\n",
        "grid.add_legend()"
      ],
      "metadata": {
        "colab": {
          "base_uri": "https://localhost:8080/",
          "height": 458
        },
        "id": "F24USEZ7fwh8",
        "outputId": "df66bcaa-6cfb-4813-bf80-2fe3c7c41f83"
      },
      "execution_count": 263,
      "outputs": [
        {
          "output_type": "execute_result",
          "data": {
            "text/plain": [
              "<seaborn.axisgrid.FacetGrid at 0x7fb92f2e4690>"
            ]
          },
          "metadata": {},
          "execution_count": 263
        },
        {
          "output_type": "display_data",
          "data": {
            "text/plain": [
              "<Figure size 440x432 with 4 Axes>"
            ],
            "image/png": "[encoded data removed]"
          },
          "metadata": {
            "needs_background": "light"
          }
        }
      ]
    },
    {
      "cell_type": "markdown",
      "source": [
        "Ta nhận thấy số người đăng ký khoản vay phần lớn có khoản thu nhập nằm ở khoảng từ 0 đến 20000 không tự kinh doanh và đã tốt nghiệp"
      ],
      "metadata": {
        "id": "_jJ1X783f-Yl"
      }
    },
    {
      "cell_type": "code",
      "source": [
        "# biểu đồ thể hiện sự phân bổ số người đăng ký khoản vay thông qua thu nhập, tình trạng hôn nhân và số người phụ thuộc\n",
        "grid = sns.FacetGrid(loan_app_df, row='Married', col='Dependents')\n",
        "grid.map(plt.hist, 'ApplicantIncome')\n",
        "grid.add_legend()"
      ],
      "metadata": {
        "colab": {
          "base_uri": "https://localhost:8080/",
          "height": 458
        },
        "id": "6Tq471WCgwM3",
        "outputId": "fe77cc8d-b7d0-41db-aae0-aab3378f0e9b"
      },
      "execution_count": 264,
      "outputs": [
        {
          "output_type": "execute_result",
          "data": {
            "text/plain": [
              "<seaborn.axisgrid.FacetGrid at 0x7fb92f0ebe10>"
            ]
          },
          "metadata": {},
          "execution_count": 264
        },
        {
          "output_type": "display_data",
          "data": {
            "text/plain": [
              "<Figure size 872x432 with 8 Axes>"
            ],
            "image/png": "[encoded data removed]"
          },
          "metadata": {
            "needs_background": "light"
          }
        }
      ]
    },
    {
      "cell_type": "markdown",
      "source": [
        "Ta nhận thấy số người đăng ký khoản vay phần lớn có khoản thu nhập nằm ở khoảng từ 0 đến 20000 không có người phụ thuộc và đã kết hôn"
      ],
      "metadata": {
        "id": "IRgwFjDpiRNf"
      }
    },
    {
      "cell_type": "code",
      "source": [
        "# biểu đồ thể hiện sự phân bổ số người đăng ký khoản vay thông qua thu nhập, tình trạng hôn nhân và lịch sử tín dụng\n",
        "grid = sns.FacetGrid(loan_app_df, row='Married', col='Credit_History')\n",
        "grid.map(plt.hist, 'ApplicantIncome')\n",
        "grid.add_legend()"
      ],
      "metadata": {
        "colab": {
          "base_uri": "https://localhost:8080/",
          "height": 458
        },
        "id": "AM447uhuka4N",
        "outputId": "430290fc-3587-4c2c-c971-a4ced96e3ec1"
      },
      "execution_count": 265,
      "outputs": [
        {
          "output_type": "execute_result",
          "data": {
            "text/plain": [
              "<seaborn.axisgrid.FacetGrid at 0x7fb92ea97f10>"
            ]
          },
          "metadata": {},
          "execution_count": 265
        },
        {
          "output_type": "display_data",
          "data": {
            "text/plain": [
              "<Figure size 440x432 with 4 Axes>"
            ],
            "image/png": "[encoded data removed]"
          },
          "metadata": {
            "needs_background": "light"
          }
        }
      ]
    },
    {
      "cell_type": "markdown",
      "source": [
        "Ta nhận thấy số người đăng ký khoản vay phần lớn có khoản thu nhập nằm ở khoảng từ 0 đến 20000 có lịch sử tính dụng là 1.0 và đã kết hôn"
      ],
      "metadata": {
        "id": "69bQYT0Mk_pk"
      }
    },
    {
      "cell_type": "code",
      "source": [
        "# biểu đồ thể hiện sự phân bổ số người đăng ký khoản vay thông qua thu nhập, lịch sử tín dụng và khu vực\n",
        "grid = sns.FacetGrid(loan_app_df, row='Credit_History', col='Property_Area')\n",
        "grid.map(plt.hist, 'ApplicantIncome')\n",
        "grid.add_legend()"
      ],
      "metadata": {
        "colab": {
          "base_uri": "https://localhost:8080/",
          "height": 458
        },
        "id": "WpYLwUkrknL4",
        "outputId": "0e05b09d-e1aa-4dd8-a6bf-dfd1ff339310"
      },
      "execution_count": 266,
      "outputs": [
        {
          "output_type": "execute_result",
          "data": {
            "text/plain": [
              "<seaborn.axisgrid.FacetGrid at 0x7fb92e8d4490>"
            ]
          },
          "metadata": {},
          "execution_count": 266
        },
        {
          "output_type": "display_data",
          "data": {
            "text/plain": [
              "<Figure size 656x432 with 6 Axes>"
            ],
            "image/png": "[encoded data removed]"
          },
          "metadata": {
            "needs_background": "light"
          }
        }
      ]
    },
    {
      "cell_type": "markdown",
      "source": [
        "Ta nhận thấy số người đăng ký khoản vay phần lớn có khoản thu nhập nằm ở khoảng từ 0 đến 20000 có lịch sử tính dụng là 1.0 và ở khu vực Urban và Semiurban"
      ],
      "metadata": {
        "id": "MkrgsPmclU-p"
      }
    },
    {
      "cell_type": "code",
      "source": [
        "# biểu đồ thể hiện sự phân bổ số người đăng ký khoản vay thông qua thu nhập, lịch sử tín dụng và trình độ học vấn\n",
        "grid = sns.FacetGrid(loan_app_df, row='Education', col='Credit_History')\n",
        "grid.map(plt.hist, 'ApplicantIncome')\n",
        "grid.add_legend()"
      ],
      "metadata": {
        "colab": {
          "base_uri": "https://localhost:8080/",
          "height": 458
        },
        "id": "aX-vXaUPluIR",
        "outputId": "1b3f6b73-a1db-4456-fc66-af8d46b851a7"
      },
      "execution_count": 267,
      "outputs": [
        {
          "output_type": "execute_result",
          "data": {
            "text/plain": [
              "<seaborn.axisgrid.FacetGrid at 0x7fb92e5c7650>"
            ]
          },
          "metadata": {},
          "execution_count": 267
        },
        {
          "output_type": "display_data",
          "data": {
            "text/plain": [
              "<Figure size 440x432 with 4 Axes>"
            ],
            "image/png": "[encoded data removed]"
          },
          "metadata": {
            "needs_background": "light"
          }
        }
      ]
    },
    {
      "cell_type": "markdown",
      "source": [
        "Ta nhận thấy số người đăng ký khoản vay phần lớn có khoản thu nhập nằm ở khoảng từ 0 đến 20000 có lịch sử tính dụng là 1.0 và đã tốt nghiệp"
      ],
      "metadata": {
        "id": "YrPty8sTmdRH"
      }
    },
    {
      "cell_type": "code",
      "source": [
        "# biểu đồ biểu thị sự phân bổ theo thu nhập, người đồng nộp đơn và số lượng vay\n",
        "flg, axes = plt.subplots(nrows = 1, ncols = 3, figsize = (14,6))\n",
        "\n",
        "sns.histplot(loan_app_df['ApplicantIncome'], ax = axes[0],kde=True).set_title('ApplicantIncome Distribution')\n",
        "axes[0].set_ylabel('ApplicantIncome Count')\n",
        "\n",
        "sns.histplot(loan_app_df['CoapplicantIncome'], color = \"r\", ax = axes[1],kde=True).set_title('CoapplicantIncome Distribution')\n",
        "axes[1].set_ylabel('CoapplicantIncome Count')\n",
        "\n",
        "sns.histplot(loan_app_df['LoanAmount'],color = \"g\", ax = axes[2],kde=True).set_title('LoanAmount Distribution')\n",
        "axes[2].set_ylabel('LoanAmount Count')\n",
        "\n",
        "plt.tight_layout()\n",
        "plt.show()\n",
        "plt.gcf().clear()"
      ],
      "metadata": {
        "colab": {
          "base_uri": "https://localhost:8080/",
          "height": 458
        },
        "id": "Qc8AvETTnVKw",
        "outputId": "8ef80e47-1dbe-4e93-e3bb-f44e796b089e"
      },
      "execution_count": 268,
      "outputs": [
        {
          "output_type": "display_data",
          "data": {
            "text/plain": [
              "<Figure size 1008x432 with 3 Axes>"
            ],
            "image/png": "[encoded data removed]"
          },
          "metadata": {
            "needs_background": "light"
          }
        },
        {
          "output_type": "display_data",
          "data": {
            "text/plain": [
              "<Figure size 432x288 with 0 Axes>"
            ]
          },
          "metadata": {}
        }
      ]
    },
    {
      "cell_type": "markdown",
      "source": [
        "### Normalization"
      ],
      "metadata": {
        "id": "eN41Z__spuw1"
      }
    },
    {
      "cell_type": "code",
      "source": [
        "# chuẩn hóa dữ liệu ApplicantIncome\n",
        "loan_app_df['ApplicantIncomeLog'] = np.log(loan_app_df['ApplicantIncome'])\n",
        "sns.histplot(loan_app_df['ApplicantIncomeLog'], color='red', kde=True, linewidth=0)\n",
        "fig = plt.figure()"
      ],
      "metadata": {
        "colab": {
          "base_uri": "https://localhost:8080/",
          "height": 296
        },
        "id": "KjiR-xPAqXrd",
        "outputId": "72e7bc9b-844e-4b4f-bc71-12f15eb6b39f"
      },
      "execution_count": 269,
      "outputs": [
        {
          "output_type": "display_data",
          "data": {
            "text/plain": [
              "<Figure size 432x288 with 1 Axes>"
            ],
            "image/png": "[encoded data removed]"
          },
          "metadata": {
            "needs_background": "light"
          }
        },
        {
          "output_type": "display_data",
          "data": {
            "text/plain": [
              "<Figure size 432x288 with 0 Axes>"
            ]
          },
          "metadata": {}
        }
      ]
    },
    {
      "cell_type": "code",
      "source": [
        "# chuẩn hóa dữ liệu CoapplicantIncome\n",
        "loan_app_df['CoapplicantIncomeLog'] = np.log(loan_app_df['CoapplicantIncome'])\n",
        "sns.histplot(loan_app_df['CoapplicantIncomeLog'], color='red', kde=True, linewidth=0)\n",
        "fig = plt.figure()"
      ],
      "metadata": {
        "colab": {
          "base_uri": "https://localhost:8080/",
          "height": 331
        },
        "id": "6Ni5v_7cq3EC",
        "outputId": "722ad48f-60e5-40a2-f6c0-4c3fa0098a28"
      },
      "execution_count": 270,
      "outputs": [
        {
          "output_type": "stream",
          "name": "stderr",
          "text": [
            "/usr/local/lib/python3.7/dist-packages/pandas/core/arraylike.py:364: RuntimeWarning: divide by zero encountered in log\n",
            "  result = getattr(ufunc, method)(*inputs, **kwargs)\n"
          ]
        },
        {
          "output_type": "display_data",
          "data": {
            "text/plain": [
              "<Figure size 432x288 with 1 Axes>"
            ],
            "image/png": "[encoded data removed]"
          },
          "metadata": {
            "needs_background": "light"
          }
        },
        {
          "output_type": "display_data",
          "data": {
            "text/plain": [
              "<Figure size 432x288 with 0 Axes>"
            ]
          },
          "metadata": {}
        }
      ]
    },
    {
      "cell_type": "code",
      "source": [
        "# chuẩn hóa dữ liệu LoanAmount\n",
        "loan_app_df['LoanAmountLog'] = np.log(loan_app_df['LoanAmount'])\n",
        "sns.histplot(loan_app_df['LoanAmountLog'], color='red', kde=True, linewidth=0)\n",
        "fig = plt.figure()"
      ],
      "metadata": {
        "colab": {
          "base_uri": "https://localhost:8080/",
          "height": 296
        },
        "id": "2fTKLx45rQXS",
        "outputId": "3d207b29-a454-4c1d-ab02-a956a3207dbc"
      },
      "execution_count": 271,
      "outputs": [
        {
          "output_type": "display_data",
          "data": {
            "text/plain": [
              "<Figure size 432x288 with 1 Axes>"
            ],
            "image/png": "[encoded data removed]"
          },
          "metadata": {
            "needs_background": "light"
          }
        },
        {
          "output_type": "display_data",
          "data": {
            "text/plain": [
              "<Figure size 432x288 with 0 Axes>"
            ]
          },
          "metadata": {}
        }
      ]
    },
    {
      "cell_type": "code",
      "source": [
        "# chuẩn hóa dữ liệu Loan_Amount_Term\n",
        "loan_app_df['Loan_Amount_Term_Log'] = np.log(loan_app_df['Loan_Amount_Term'])\n",
        "sns.histplot(loan_app_df['Loan_Amount_Term_Log'], color='red', kde=True, linewidth=0)\n",
        "fig = plt.figure()"
      ],
      "metadata": {
        "colab": {
          "base_uri": "https://localhost:8080/",
          "height": 297
        },
        "id": "8Lh31KTNrh51",
        "outputId": "090199f5-4f05-446c-e1cc-d77e07cc706c"
      },
      "execution_count": 272,
      "outputs": [
        {
          "output_type": "display_data",
          "data": {
            "text/plain": [
              "<Figure size 432x288 with 1 Axes>"
            ],
            "image/png": "[encoded data removed]"
          },
          "metadata": {
            "needs_background": "light"
          }
        },
        {
          "output_type": "display_data",
          "data": {
            "text/plain": [
              "<Figure size 432x288 with 0 Axes>"
            ]
          },
          "metadata": {}
        }
      ]
    },
    {
      "cell_type": "code",
      "source": [
        "# tạo ra cột tổng thu nhập\n",
        "loan_app_df['Total_Income'] = loan_app_df['ApplicantIncome'] + loan_app_df['CoapplicantIncome']\n",
        "sns.histplot(loan_app_df['Total_Income'], color='red', kde=True, linewidth=0)\n",
        "fig = plt.figure()"
      ],
      "metadata": {
        "colab": {
          "base_uri": "https://localhost:8080/",
          "height": 300
        },
        "id": "f7LHmYu8r8Fu",
        "outputId": "558e33c9-ae0a-4849-ec66-98a511d7f688"
      },
      "execution_count": 273,
      "outputs": [
        {
          "output_type": "display_data",
          "data": {
            "text/plain": [
              "<Figure size 432x288 with 1 Axes>"
            ],
            "image/png": "[encoded data removed]"
          },
          "metadata": {
            "needs_background": "light"
          }
        },
        {
          "output_type": "display_data",
          "data": {
            "text/plain": [
              "<Figure size 432x288 with 0 Axes>"
            ]
          },
          "metadata": {}
        }
      ]
    },
    {
      "cell_type": "code",
      "source": [
        "# chuẩn hóa dữ liệu Total_Income\n",
        "loan_app_df['Total_Income_Log'] = np.log(loan_app_df['Total_Income'])\n",
        "sns.histplot(loan_app_df['Total_Income_Log'], color='red', kde=True, linewidth=0)\n",
        "fig = plt.figure()"
      ],
      "metadata": {
        "colab": {
          "base_uri": "https://localhost:8080/",
          "height": 297
        },
        "id": "t59GdjqnwkEF",
        "outputId": "061bf1a4-d786-4fae-d44e-90425d3d56e1"
      },
      "execution_count": 274,
      "outputs": [
        {
          "output_type": "display_data",
          "data": {
            "text/plain": [
              "<Figure size 432x288 with 1 Axes>"
            ],
            "image/png": "[encoded data removed]"
          },
          "metadata": {
            "needs_background": "light"
          }
        },
        {
          "output_type": "display_data",
          "data": {
            "text/plain": [
              "<Figure size 432x288 with 0 Axes>"
            ]
          },
          "metadata": {}
        }
      ]
    },
    {
      "cell_type": "markdown",
      "source": [
        "### Corelation Maxtric"
      ],
      "metadata": {
        "id": "xvVURpGMsiuj"
      }
    },
    {
      "cell_type": "code",
      "source": [
        "corr = loan_app_df.corr()\n",
        "plt.figure(figsize=(10,10))\n",
        "sns.heatmap(corr, annot = True, cmap='BuPu')"
      ],
      "metadata": {
        "colab": {
          "base_uri": "https://localhost:8080/",
          "height": 722
        },
        "id": "o74w86tdvnwL",
        "outputId": "867ec4ff-f096-484b-e0e7-62388ae3cc3b"
      },
      "execution_count": 275,
      "outputs": [
        {
          "output_type": "execute_result",
          "data": {
            "text/plain": [
              "<matplotlib.axes._subplots.AxesSubplot at 0x7fb92e254f10>"
            ]
          },
          "metadata": {},
          "execution_count": 275
        },
        {
          "output_type": "display_data",
          "data": {
            "text/plain": [
              "<Figure size 720x720 with 2 Axes>"
            ],
            "image/png": "[encoded data removed]"
          },
          "metadata": {
            "needs_background": "light"
          }
        }
      ]
    },
    {
      "cell_type": "markdown",
      "source": [
        "Ta thấy rằng sự tương quan của các cột dữ liệu được chuẩn hóa và chưa chuẩn hóa rất cao rơi vào các mức 0.79 (ApplicantIncome), 0.71 (CoapplicantIncome), 0.9 (LoanAmount), ... vì thế để tránh sự thừa thải ta sẽ loại bỏ và không xét đến các cột dữ liệu chưa được chuẩn hóa.\n"
      ],
      "metadata": {
        "id": "3GVQUnPHHNRF"
      }
    },
    {
      "cell_type": "code",
      "source": [
        "loan_app_df.head()"
      ],
      "metadata": {
        "colab": {
          "base_uri": "https://localhost:8080/",
          "height": 288
        },
        "id": "LQoU6fkYINY_",
        "outputId": "ea0b677b-eee2-4032-d29e-8ecf863b5fa6"
      },
      "execution_count": 276,
      "outputs": [
        {
          "output_type": "execute_result",
          "data": {
            "text/plain": [
              "    Loan_ID Gender Married Dependents     Education Self_Employed  \\\n",
              "0  LP001002   Male      No          0      Graduate            No   \n",
              "1  LP001003   Male     Yes          1      Graduate            No   \n",
              "2  LP001005   Male     Yes          0      Graduate           Yes   \n",
              "3  LP001006   Male     Yes          0  Not Graduate            No   \n",
              "4  LP001008   Male      No          0      Graduate            No   \n",
              "\n",
              "   ApplicantIncome  CoapplicantIncome  LoanAmount  Loan_Amount_Term  \\\n",
              "0             5849                0.0  146.412162             360.0   \n",
              "1             4583             1508.0  128.000000             360.0   \n",
              "2             3000                0.0   66.000000             360.0   \n",
              "3             2583             2358.0  120.000000             360.0   \n",
              "4             6000                0.0  141.000000             360.0   \n",
              "\n",
              "   Credit_History Property_Area Loan_Status  ApplicantIncomeLog  \\\n",
              "0             1.0         Urban           Y            8.674026   \n",
              "1             1.0         Rural           N            8.430109   \n",
              "2             1.0         Urban           Y            8.006368   \n",
              "3             1.0         Urban           Y            7.856707   \n",
              "4             1.0         Urban           Y            8.699515   \n",
              "\n",
              "   CoapplicantIncomeLog  LoanAmountLog  Loan_Amount_Term_Log  Total_Income  \\\n",
              "0                  -inf       4.986426              5.886104        5849.0   \n",
              "1              7.318540       4.852030              5.886104        6091.0   \n",
              "2                  -inf       4.189655              5.886104        3000.0   \n",
              "3              7.765569       4.787492              5.886104        4941.0   \n",
              "4                  -inf       4.948760              5.886104        6000.0   \n",
              "\n",
              "   Total_Income_Log  \n",
              "0          8.674026  \n",
              "1          8.714568  \n",
              "2          8.006368  \n",
              "3          8.505323  \n",
              "4          8.699515  "
            ],
            "text/html": [
              "\n",
              "  <div id=\"df-b0e030f6-feff-49b8-9322-44fa13ed4013\">\n",
              "    <div class=\"colab-df-container\">\n",
              "      <div>\n",
              "<style scoped>\n",
              "    .dataframe tbody tr th:only-of-type {\n",
              "        vertical-align: middle;\n",
              "    }\n",
              "\n",
              "    .dataframe tbody tr th {\n",
              "        vertical-align: top;\n",
              "    }\n",
              "\n",
              "    .dataframe thead th {\n",
              "        text-align: right;\n",
              "    }\n",
              "</style>\n",
              "<table border=\"1\" class=\"dataframe\">\n",
              "  <thead>\n",
              "    <tr style=\"text-align: right;\">\n",
              "      <th></th>\n",
              "      <th>Loan_ID</th>\n",
              "      <th>Gender</th>\n",
              "      <th>Married</th>\n",
              "      <th>Dependents</th>\n",
              "      <th>Education</th>\n",
              "      <th>Self_Employed</th>\n",
              "      <th>ApplicantIncome</th>\n",
              "      <th>CoapplicantIncome</th>\n",
              "      <th>LoanAmount</th>\n",
              "      <th>Loan_Amount_Term</th>\n",
              "      <th>Credit_History</th>\n",
              "      <th>Property_Area</th>\n",
              "      <th>Loan_Status</th>\n",
              "      <th>ApplicantIncomeLog</th>\n",
              "      <th>CoapplicantIncomeLog</th>\n",
              "      <th>LoanAmountLog</th>\n",
              "      <th>Loan_Amount_Term_Log</th>\n",
              "      <th>Total_Income</th>\n",
              "      <th>Total_Income_Log</th>\n",
              "    </tr>\n",
              "  </thead>\n",
              "  <tbody>\n",
              "    <tr>\n",
              "      <th>0</th>\n",
              "      <td>LP001002</td>\n",
              "      <td>Male</td>\n",
              "      <td>No</td>\n",
              "      <td>0</td>\n",
              "      <td>Graduate</td>\n",
              "      <td>No</td>\n",
              "      <td>5849</td>\n",
              "      <td>0.0</td>\n",
              "      <td>146.412162</td>\n",
              "      <td>360.0</td>\n",
              "      <td>1.0</td>\n",
              "      <td>Urban</td>\n",
              "      <td>Y</td>\n",
              "      <td>8.674026</td>\n",
              "      <td>-inf</td>\n",
              "      <td>4.986426</td>\n",
              "      <td>5.886104</td>\n",
              "      <td>5849.0</td>\n",
              "      <td>8.674026</td>\n",
              "    </tr>\n",
              "    <tr>\n",
              "      <th>1</th>\n",
              "      <td>LP001003</td>\n",
              "      <td>Male</td>\n",
              "      <td>Yes</td>\n",
              "      <td>1</td>\n",
              "      <td>Graduate</td>\n",
              "      <td>No</td>\n",
              "      <td>4583</td>\n",
              "      <td>1508.0</td>\n",
              "      <td>128.000000</td>\n",
              "      <td>360.0</td>\n",
              "      <td>1.0</td>\n",
              "      <td>Rural</td>\n",
              "      <td>N</td>\n",
              "      <td>8.430109</td>\n",
              "      <td>7.318540</td>\n",
              "      <td>4.852030</td>\n",
              "      <td>5.886104</td>\n",
              "      <td>6091.0</td>\n",
              "      <td>8.714568</td>\n",
              "    </tr>\n",
              "    <tr>\n",
              "      <th>2</th>\n",
              "      <td>LP001005</td>\n",
              "      <td>Male</td>\n",
              "      <td>Yes</td>\n",
              "      <td>0</td>\n",
              "      <td>Graduate</td>\n",
              "      <td>Yes</td>\n",
              "      <td>3000</td>\n",
              "      <td>0.0</td>\n",
              "      <td>66.000000</td>\n",
              "      <td>360.0</td>\n",
              "      <td>1.0</td>\n",
              "      <td>Urban</td>\n",
              "      <td>Y</td>\n",
              "      <td>8.006368</td>\n",
              "      <td>-inf</td>\n",
              "      <td>4.189655</td>\n",
              "      <td>5.886104</td>\n",
              "      <td>3000.0</td>\n",
              "      <td>8.006368</td>\n",
              "    </tr>\n",
              "    <tr>\n",
              "      <th>3</th>\n",
              "      <td>LP001006</td>\n",
              "      <td>Male</td>\n",
              "      <td>Yes</td>\n",
              "      <td>0</td>\n",
              "      <td>Not Graduate</td>\n",
              "      <td>No</td>\n",
              "      <td>2583</td>\n",
              "      <td>2358.0</td>\n",
              "      <td>120.000000</td>\n",
              "      <td>360.0</td>\n",
              "      <td>1.0</td>\n",
              "      <td>Urban</td>\n",
              "      <td>Y</td>\n",
              "      <td>7.856707</td>\n",
              "      <td>7.765569</td>\n",
              "      <td>4.787492</td>\n",
              "      <td>5.886104</td>\n",
              "      <td>4941.0</td>\n",
              "      <td>8.505323</td>\n",
              "    </tr>\n",
              "    <tr>\n",
              "      <th>4</th>\n",
              "      <td>LP001008</td>\n",
              "      <td>Male</td>\n",
              "      <td>No</td>\n",
              "      <td>0</td>\n",
              "      <td>Graduate</td>\n",
              "      <td>No</td>\n",
              "      <td>6000</td>\n",
              "      <td>0.0</td>\n",
              "      <td>141.000000</td>\n",
              "      <td>360.0</td>\n",
              "      <td>1.0</td>\n",
              "      <td>Urban</td>\n",
              "      <td>Y</td>\n",
              "      <td>8.699515</td>\n",
              "      <td>-inf</td>\n",
              "      <td>4.948760</td>\n",
              "      <td>5.886104</td>\n",
              "      <td>6000.0</td>\n",
              "      <td>8.699515</td>\n",
              "    </tr>\n",
              "  </tbody>\n",
              "</table>\n",
              "</div>\n",
              "      <button class=\"colab-df-convert\" onclick=\"convertToInteractive('df-b0e030f6-feff-49b8-9322-44fa13ed4013')\"\n",
              "              title=\"Convert this dataframe to an interactive table.\"\n",
              "              style=\"display:none;\">\n",
              "        \n",
              "  <svg xmlns=\"http://www.w3.org/2000/svg\" height=\"24px\"viewBox=\"0 0 24 24\"\n",
              "       width=\"24px\">\n",
              "    <path d=\"M0 0h24v24H0V0z\" fill=\"none\"/>\n",
              "    <path d=\"M18.56 5.44l.94 2.06.94-2.06 2.06-.94-2.06-.94-.94-2.06-.94 2.06-2.06.94zm-11 1L8.5 8.5l.94-2.06 2.06-.94-2.06-.94L8.5 2.5l-.94 2.06-2.06.94zm10 10l.94 2.06.94-2.06 2.06-.94-2.06-.94-.94-2.06-.94 2.06-2.06.94z\"/><path d=\"M17.41 7.96l-1.37-1.37c-.4-.4-.92-.59-1.43-.59-.52 0-1.04.2-1.43.59L10.3 9.45l-7.72 7.72c-.78.78-.78 2.05 0 2.83L4 21.41c.39.39.9.59 1.41.59.51 0 1.02-.2 1.41-.59l7.78-7.78 2.81-2.81c.8-.78.8-2.07 0-2.86zM5.41 20L4 18.59l7.72-7.72 1.47 1.35L5.41 20z\"/>\n",
              "  </svg>\n",
              "      </button>\n",
              "      \n",
              "  <style>\n",
              "    .colab-df-container {\n",
              "      display:flex;\n",
              "      flex-wrap:wrap;\n",
              "      gap: 12px;\n",
              "    }\n",
              "\n",
              "    .colab-df-convert {\n",
              "      background-color: #E8F0FE;\n",
              "      border: none;\n",
              "      border-radius: 50%;\n",
              "      cursor: pointer;\n",
              "      display: none;\n",
              "      fill: #1967D2;\n",
              "      height: 32px;\n",
              "      padding: 0 0 0 0;\n",
              "      width: 32px;\n",
              "    }\n",
              "\n",
              "    .colab-df-convert:hover {\n",
              "      background-color: #E2EBFA;\n",
              "      box-shadow: 0px 1px 2px rgba(60, 64, 67, 0.3), 0px 1px 3px 1px rgba(60, 64, 67, 0.15);\n",
              "      fill: #174EA6;\n",
              "    }\n",
              "\n",
              "    [theme=dark] .colab-df-convert {\n",
              "      background-color: #3B4455;\n",
              "      fill: #D2E3FC;\n",
              "    }\n",
              "\n",
              "    [theme=dark] .colab-df-convert:hover {\n",
              "      background-color: #434B5C;\n",
              "      box-shadow: 0px 1px 3px 1px rgba(0, 0, 0, 0.15);\n",
              "      filter: drop-shadow(0px 1px 2px rgba(0, 0, 0, 0.3));\n",
              "      fill: #FFFFFF;\n",
              "    }\n",
              "  </style>\n",
              "\n",
              "      <script>\n",
              "        const buttonEl =\n",
              "          document.querySelector('#df-b0e030f6-feff-49b8-9322-44fa13ed4013 button.colab-df-convert');\n",
              "        buttonEl.style.display =\n",
              "          google.colab.kernel.accessAllowed ? 'block' : 'none';\n",
              "\n",
              "        async function convertToInteractive(key) {\n",
              "          const element = document.querySelector('#df-b0e030f6-feff-49b8-9322-44fa13ed4013');\n",
              "          const dataTable =\n",
              "            await google.colab.kernel.invokeFunction('convertToInteractive',\n",
              "                                                     [key], {});\n",
              "          if (!dataTable) return;\n",
              "\n",
              "          const docLinkHtml = 'Like what you see? Visit the ' +\n",
              "            '<a target=\"_blank\" href=https://colab.research.google.com/notebooks/data_table.ipynb>data table notebook</a>'\n",
              "            + ' to learn more about interactive tables.';\n",
              "          element.innerHTML = '';\n",
              "          dataTable['output_type'] = 'display_data';\n",
              "          await google.colab.output.renderOutput(dataTable, element);\n",
              "          const docLink = document.createElement('div');\n",
              "          docLink.innerHTML = docLinkHtml;\n",
              "          element.appendChild(docLink);\n",
              "        }\n",
              "      </script>\n",
              "    </div>\n",
              "  </div>\n",
              "  "
            ]
          },
          "metadata": {},
          "execution_count": 276
        }
      ]
    },
    {
      "cell_type": "markdown",
      "source": [
        "Ta tiếp tục nhận thấy ở cột CoapplicantIncomeLog dữ liệu được chuẩn hóa gặp vấn đề ở giá trị vì thế ta tiến hành kiểm tra."
      ],
      "metadata": {
        "id": "91trLC_oIYLA"
      }
    },
    {
      "cell_type": "code",
      "source": [
        "loan_app_df['CoapplicantIncomeLog'].value_counts()"
      ],
      "metadata": {
        "colab": {
          "base_uri": "https://localhost:8080/"
        },
        "id": "P-FeblJyIs1e",
        "outputId": "598670c8-f5b5-46b7-df8c-0fad07c70f74"
      },
      "execution_count": 277,
      "outputs": [
        {
          "output_type": "execute_result",
          "data": {
            "text/plain": [
              "-inf         273\n",
              " 7.824046      5\n",
              " 7.641564      5\n",
              " 7.418181      5\n",
              " 7.718685      3\n",
              "            ... \n",
              " 7.934155      1\n",
              " 6.917706      1\n",
              " 7.435438      1\n",
              " 7.862497      1\n",
              " 5.480639      1\n",
              "Name: CoapplicantIncomeLog, Length: 287, dtype: int64"
            ]
          },
          "metadata": {},
          "execution_count": 277
        }
      ]
    },
    {
      "cell_type": "markdown",
      "source": [
        "Số dữ liệu bị lỗi ở CoapplicantIncomeLog nhìn chung rất là lớn, vì vậy để tránh sai sót trong quá trình phân tích và dự đoán, ta cũng loại bỏ cột CoapplicantIncomeLog"
      ],
      "metadata": {
        "id": "t54bx4eTIztH"
      }
    },
    {
      "cell_type": "markdown",
      "source": [
        "### Chuyển các kiểu object về dạng số"
      ],
      "metadata": {
        "id": "4CIkZDssJWX4"
      }
    },
    {
      "cell_type": "code",
      "source": [
        "# định nghĩa hàm in các giá trị có trong các đối tượng object\n",
        "\n",
        "obj_cols = ['Gender', 'Dependents', 'Married', 'Education', 'Self_Employed', 'Loan_Status', 'Property_Area']\n",
        "\n",
        "def print_col_values():\n",
        "  for obj_col in obj_cols:\n",
        "    print(obj_col,set(loan_app_df[obj_col].values.tolist()))"
      ],
      "metadata": {
        "id": "ZXm-YVSzJxFf"
      },
      "execution_count": 278,
      "outputs": []
    },
    {
      "cell_type": "code",
      "source": [
        "print_col_values()"
      ],
      "metadata": {
        "colab": {
          "base_uri": "https://localhost:8080/"
        },
        "id": "3LqdKH0aKein",
        "outputId": "5372f9e4-313c-47c6-8c9c-b9a713fb30c5"
      },
      "execution_count": 279,
      "outputs": [
        {
          "output_type": "stream",
          "name": "stdout",
          "text": [
            "Gender {'Male', 'Female'}\n",
            "Dependents {'2', '1', '3+', '0'}\n",
            "Married {'Yes', 'No'}\n",
            "Education {'Graduate', 'Not Graduate'}\n",
            "Self_Employed {'Yes', 'No'}\n",
            "Loan_Status {'Y', 'N'}\n",
            "Property_Area {'Semiurban', 'Rural', 'Urban'}\n"
          ]
        }
      ]
    },
    {
      "cell_type": "code",
      "source": [
        "# chuyển về dạng số\n",
        "\n",
        "from sklearn.preprocessing import LabelEncoder\n",
        "lab = LabelEncoder()\n",
        "\n",
        "for col in obj_cols:\n",
        "  loan_app_df[col] = lab.fit_transform(loan_app_df[col])\n"
      ],
      "metadata": {
        "id": "O8bfAuywJel3"
      },
      "execution_count": 280,
      "outputs": []
    },
    {
      "cell_type": "code",
      "source": [
        "print_col_values()"
      ],
      "metadata": {
        "colab": {
          "base_uri": "https://localhost:8080/"
        },
        "id": "_ycdUMU5K95N",
        "outputId": "b0bb8913-ccb1-4f33-c4f0-1a86e03b79b0"
      },
      "execution_count": 281,
      "outputs": [
        {
          "output_type": "stream",
          "name": "stdout",
          "text": [
            "Gender {0, 1}\n",
            "Dependents {0, 1, 2, 3}\n",
            "Married {0, 1}\n",
            "Education {0, 1}\n",
            "Self_Employed {0, 1}\n",
            "Loan_Status {0, 1}\n",
            "Property_Area {0, 1, 2}\n"
          ]
        }
      ]
    },
    {
      "cell_type": "code",
      "source": [
        "loan_app_df.head()"
      ],
      "metadata": {
        "colab": {
          "base_uri": "https://localhost:8080/",
          "height": 270
        },
        "id": "SgYaqTYE5Jp-",
        "outputId": "0761e764-ebb5-4c14-c78c-2ba306285016"
      },
      "execution_count": 308,
      "outputs": [
        {
          "output_type": "execute_result",
          "data": {
            "text/plain": [
              "    Loan_ID  Gender  Married  Dependents  Education  Self_Employed  \\\n",
              "0  LP001002       1        0           0          0              0   \n",
              "1  LP001003       1        1           1          0              0   \n",
              "2  LP001005       1        1           0          0              1   \n",
              "3  LP001006       1        1           0          1              0   \n",
              "4  LP001008       1        0           0          0              0   \n",
              "\n",
              "   ApplicantIncome  CoapplicantIncome  LoanAmount  Loan_Amount_Term  \\\n",
              "0             5849                0.0  146.412162             360.0   \n",
              "1             4583             1508.0  128.000000             360.0   \n",
              "2             3000                0.0   66.000000             360.0   \n",
              "3             2583             2358.0  120.000000             360.0   \n",
              "4             6000                0.0  141.000000             360.0   \n",
              "\n",
              "   Credit_History  Property_Area  Loan_Status  ApplicantIncomeLog  \\\n",
              "0             1.0              2            1            8.674026   \n",
              "1             1.0              0            0            8.430109   \n",
              "2             1.0              2            1            8.006368   \n",
              "3             1.0              2            1            7.856707   \n",
              "4             1.0              2            1            8.699515   \n",
              "\n",
              "   CoapplicantIncomeLog  LoanAmountLog  Loan_Amount_Term_Log  Total_Income  \\\n",
              "0                  -inf       4.986426              5.886104        5849.0   \n",
              "1              7.318540       4.852030              5.886104        6091.0   \n",
              "2                  -inf       4.189655              5.886104        3000.0   \n",
              "3              7.765569       4.787492              5.886104        4941.0   \n",
              "4                  -inf       4.948760              5.886104        6000.0   \n",
              "\n",
              "   Total_Income_Log  \n",
              "0          8.674026  \n",
              "1          8.714568  \n",
              "2          8.006368  \n",
              "3          8.505323  \n",
              "4          8.699515  "
            ],
            "text/html": [
              "\n",
              "  <div id=\"df-4bff6290-f5bc-4c57-9377-23f4674e181a\">\n",
              "    <div class=\"colab-df-container\">\n",
              "      <div>\n",
              "<style scoped>\n",
              "    .dataframe tbody tr th:only-of-type {\n",
              "        vertical-align: middle;\n",
              "    }\n",
              "\n",
              "    .dataframe tbody tr th {\n",
              "        vertical-align: top;\n",
              "    }\n",
              "\n",
              "    .dataframe thead th {\n",
              "        text-align: right;\n",
              "    }\n",
              "</style>\n",
              "<table border=\"1\" class=\"dataframe\">\n",
              "  <thead>\n",
              "    <tr style=\"text-align: right;\">\n",
              "      <th></th>\n",
              "      <th>Loan_ID</th>\n",
              "      <th>Gender</th>\n",
              "      <th>Married</th>\n",
              "      <th>Dependents</th>\n",
              "      <th>Education</th>\n",
              "      <th>Self_Employed</th>\n",
              "      <th>ApplicantIncome</th>\n",
              "      <th>CoapplicantIncome</th>\n",
              "      <th>LoanAmount</th>\n",
              "      <th>Loan_Amount_Term</th>\n",
              "      <th>Credit_History</th>\n",
              "      <th>Property_Area</th>\n",
              "      <th>Loan_Status</th>\n",
              "      <th>ApplicantIncomeLog</th>\n",
              "      <th>CoapplicantIncomeLog</th>\n",
              "      <th>LoanAmountLog</th>\n",
              "      <th>Loan_Amount_Term_Log</th>\n",
              "      <th>Total_Income</th>\n",
              "      <th>Total_Income_Log</th>\n",
              "    </tr>\n",
              "  </thead>\n",
              "  <tbody>\n",
              "    <tr>\n",
              "      <th>0</th>\n",
              "      <td>LP001002</td>\n",
              "      <td>1</td>\n",
              "      <td>0</td>\n",
              "      <td>0</td>\n",
              "      <td>0</td>\n",
              "      <td>0</td>\n",
              "      <td>5849</td>\n",
              "      <td>0.0</td>\n",
              "      <td>146.412162</td>\n",
              "      <td>360.0</td>\n",
              "      <td>1.0</td>\n",
              "      <td>2</td>\n",
              "      <td>1</td>\n",
              "      <td>8.674026</td>\n",
              "      <td>-inf</td>\n",
              "      <td>4.986426</td>\n",
              "      <td>5.886104</td>\n",
              "      <td>5849.0</td>\n",
              "      <td>8.674026</td>\n",
              "    </tr>\n",
              "    <tr>\n",
              "      <th>1</th>\n",
              "      <td>LP001003</td>\n",
              "      <td>1</td>\n",
              "      <td>1</td>\n",
              "      <td>1</td>\n",
              "      <td>0</td>\n",
              "      <td>0</td>\n",
              "      <td>4583</td>\n",
              "      <td>1508.0</td>\n",
              "      <td>128.000000</td>\n",
              "      <td>360.0</td>\n",
              "      <td>1.0</td>\n",
              "      <td>0</td>\n",
              "      <td>0</td>\n",
              "      <td>8.430109</td>\n",
              "      <td>7.318540</td>\n",
              "      <td>4.852030</td>\n",
              "      <td>5.886104</td>\n",
              "      <td>6091.0</td>\n",
              "      <td>8.714568</td>\n",
              "    </tr>\n",
              "    <tr>\n",
              "      <th>2</th>\n",
              "      <td>LP001005</td>\n",
              "      <td>1</td>\n",
              "      <td>1</td>\n",
              "      <td>0</td>\n",
              "      <td>0</td>\n",
              "      <td>1</td>\n",
              "      <td>3000</td>\n",
              "      <td>0.0</td>\n",
              "      <td>66.000000</td>\n",
              "      <td>360.0</td>\n",
              "      <td>1.0</td>\n",
              "      <td>2</td>\n",
              "      <td>1</td>\n",
              "      <td>8.006368</td>\n",
              "      <td>-inf</td>\n",
              "      <td>4.189655</td>\n",
              "      <td>5.886104</td>\n",
              "      <td>3000.0</td>\n",
              "      <td>8.006368</td>\n",
              "    </tr>\n",
              "    <tr>\n",
              "      <th>3</th>\n",
              "      <td>LP001006</td>\n",
              "      <td>1</td>\n",
              "      <td>1</td>\n",
              "      <td>0</td>\n",
              "      <td>1</td>\n",
              "      <td>0</td>\n",
              "      <td>2583</td>\n",
              "      <td>2358.0</td>\n",
              "      <td>120.000000</td>\n",
              "      <td>360.0</td>\n",
              "      <td>1.0</td>\n",
              "      <td>2</td>\n",
              "      <td>1</td>\n",
              "      <td>7.856707</td>\n",
              "      <td>7.765569</td>\n",
              "      <td>4.787492</td>\n",
              "      <td>5.886104</td>\n",
              "      <td>4941.0</td>\n",
              "      <td>8.505323</td>\n",
              "    </tr>\n",
              "    <tr>\n",
              "      <th>4</th>\n",
              "      <td>LP001008</td>\n",
              "      <td>1</td>\n",
              "      <td>0</td>\n",
              "      <td>0</td>\n",
              "      <td>0</td>\n",
              "      <td>0</td>\n",
              "      <td>6000</td>\n",
              "      <td>0.0</td>\n",
              "      <td>141.000000</td>\n",
              "      <td>360.0</td>\n",
              "      <td>1.0</td>\n",
              "      <td>2</td>\n",
              "      <td>1</td>\n",
              "      <td>8.699515</td>\n",
              "      <td>-inf</td>\n",
              "      <td>4.948760</td>\n",
              "      <td>5.886104</td>\n",
              "      <td>6000.0</td>\n",
              "      <td>8.699515</td>\n",
              "    </tr>\n",
              "  </tbody>\n",
              "</table>\n",
              "</div>\n",
              "      <button class=\"colab-df-convert\" onclick=\"convertToInteractive('df-4bff6290-f5bc-4c57-9377-23f4674e181a')\"\n",
              "              title=\"Convert this dataframe to an interactive table.\"\n",
              "              style=\"display:none;\">\n",
              "        \n",
              "  <svg xmlns=\"http://www.w3.org/2000/svg\" height=\"24px\"viewBox=\"0 0 24 24\"\n",
              "       width=\"24px\">\n",
              "    <path d=\"M0 0h24v24H0V0z\" fill=\"none\"/>\n",
              "    <path d=\"M18.56 5.44l.94 2.06.94-2.06 2.06-.94-2.06-.94-.94-2.06-.94 2.06-2.06.94zm-11 1L8.5 8.5l.94-2.06 2.06-.94-2.06-.94L8.5 2.5l-.94 2.06-2.06.94zm10 10l.94 2.06.94-2.06 2.06-.94-2.06-.94-.94-2.06-.94 2.06-2.06.94z\"/><path d=\"M17.41 7.96l-1.37-1.37c-.4-.4-.92-.59-1.43-.59-.52 0-1.04.2-1.43.59L10.3 9.45l-7.72 7.72c-.78.78-.78 2.05 0 2.83L4 21.41c.39.39.9.59 1.41.59.51 0 1.02-.2 1.41-.59l7.78-7.78 2.81-2.81c.8-.78.8-2.07 0-2.86zM5.41 20L4 18.59l7.72-7.72 1.47 1.35L5.41 20z\"/>\n",
              "  </svg>\n",
              "      </button>\n",
              "      \n",
              "  <style>\n",
              "    .colab-df-container {\n",
              "      display:flex;\n",
              "      flex-wrap:wrap;\n",
              "      gap: 12px;\n",
              "    }\n",
              "\n",
              "    .colab-df-convert {\n",
              "      background-color: #E8F0FE;\n",
              "      border: none;\n",
              "      border-radius: 50%;\n",
              "      cursor: pointer;\n",
              "      display: none;\n",
              "      fill: #1967D2;\n",
              "      height: 32px;\n",
              "      padding: 0 0 0 0;\n",
              "      width: 32px;\n",
              "    }\n",
              "\n",
              "    .colab-df-convert:hover {\n",
              "      background-color: #E2EBFA;\n",
              "      box-shadow: 0px 1px 2px rgba(60, 64, 67, 0.3), 0px 1px 3px 1px rgba(60, 64, 67, 0.15);\n",
              "      fill: #174EA6;\n",
              "    }\n",
              "\n",
              "    [theme=dark] .colab-df-convert {\n",
              "      background-color: #3B4455;\n",
              "      fill: #D2E3FC;\n",
              "    }\n",
              "\n",
              "    [theme=dark] .colab-df-convert:hover {\n",
              "      background-color: #434B5C;\n",
              "      box-shadow: 0px 1px 3px 1px rgba(0, 0, 0, 0.15);\n",
              "      filter: drop-shadow(0px 1px 2px rgba(0, 0, 0, 0.3));\n",
              "      fill: #FFFFFF;\n",
              "    }\n",
              "  </style>\n",
              "\n",
              "      <script>\n",
              "        const buttonEl =\n",
              "          document.querySelector('#df-4bff6290-f5bc-4c57-9377-23f4674e181a button.colab-df-convert');\n",
              "        buttonEl.style.display =\n",
              "          google.colab.kernel.accessAllowed ? 'block' : 'none';\n",
              "\n",
              "        async function convertToInteractive(key) {\n",
              "          const element = document.querySelector('#df-4bff6290-f5bc-4c57-9377-23f4674e181a');\n",
              "          const dataTable =\n",
              "            await google.colab.kernel.invokeFunction('convertToInteractive',\n",
              "                                                     [key], {});\n",
              "          if (!dataTable) return;\n",
              "\n",
              "          const docLinkHtml = 'Like what you see? Visit the ' +\n",
              "            '<a target=\"_blank\" href=https://colab.research.google.com/notebooks/data_table.ipynb>data table notebook</a>'\n",
              "            + ' to learn more about interactive tables.';\n",
              "          element.innerHTML = '';\n",
              "          dataTable['output_type'] = 'display_data';\n",
              "          await google.colab.output.renderOutput(dataTable, element);\n",
              "          const docLink = document.createElement('div');\n",
              "          docLink.innerHTML = docLinkHtml;\n",
              "          element.appendChild(docLink);\n",
              "        }\n",
              "      </script>\n",
              "    </div>\n",
              "  </div>\n",
              "  "
            ]
          },
          "metadata": {},
          "execution_count": 308
        }
      ]
    },
    {
      "cell_type": "markdown",
      "source": [
        "### Tạo tập train và test"
      ],
      "metadata": {
        "id": "T16w3uM9LF83"
      }
    },
    {
      "cell_type": "code",
      "source": [
        "from sklearn.model_selection import train_test_split\n",
        "\n",
        "Y = loan_app_df['Loan_Status']\n",
        "X = loan_app_df.drop(['Loan_Status', 'Loan_ID', 'ApplicantIncome', 'CoapplicantIncome', 'LoanAmount', 'Loan_Amount_Term', 'CoapplicantIncomeLog', 'Total_Income'], axis = 1)\n",
        "X_train, X_test, Y_train, Y_test = train_test_split(X, Y, test_size= 0.2, random_state = 42)"
      ],
      "metadata": {
        "id": "tofzlagpLLyv"
      },
      "execution_count": 282,
      "outputs": []
    },
    {
      "cell_type": "markdown",
      "source": [
        "### Tạo tập huấn luyện"
      ],
      "metadata": {
        "id": "djddHdoKN0Un"
      }
    },
    {
      "cell_type": "markdown",
      "source": [
        "![Screenshot from 2022-10-26 23-42-13.png](data:image/png;base64,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)"
      ],
      "metadata": {
        "id": "x7E6HArOOoUV"
      }
    },
    {
      "cell_type": "code",
      "source": [
        "from sklearn.model_selection import cross_val_score\n",
        "from sklearn.metrics import confusion_matrix\n",
        "\n",
        "def classify(model):\n",
        "  model.fit(X_train, Y_train)\n",
        "  print(model)\n",
        "  print(f\"Độ chính xác: {model.score(X_test, Y_test)*100}\")\n",
        "  print(f\"Cross validation: {np.mean(cross_val_score(model, X, Y, cv=5))}\")\n",
        "  print(\"-\"*50)\n",
        "  # cột Y dữ liệu thực cột X dữ liệu dự đoán nếu X dự đoán 0 thì Y thực của 0 là 28\n",
        "  Y_pred = model.predict(X_test)\n",
        "  cm = confusion_matrix(Y_test, Y_pred)\n",
        "  sns.heatmap(cm, annot=True).set_title(model)\n",
        "  plt.figure(figsize=(5,5))"
      ],
      "metadata": {
        "id": "OS2b42zdN4HI"
      },
      "execution_count": 283,
      "outputs": []
    },
    {
      "cell_type": "code",
      "source": [
        "from sklearn.linear_model import LogisticRegression\n",
        "from sklearn.ensemble import RandomForestClassifier\n",
        "from sklearn.svm import SVC\n",
        "from sklearn.tree import DecisionTreeClassifier\n",
        "from sklearn.neighbors import KNeighborsClassifier\n",
        "\n",
        "models = [\n",
        "    LogisticRegression(max_iter=3000),\n",
        "    DecisionTreeClassifier(max_depth=4),\n",
        "    RandomForestClassifier(),\n",
        "    KNeighborsClassifier(),\n",
        "    SVC()\n",
        "]\n",
        "\n",
        "\n",
        "for model in models:\n",
        "  classify(model) "
      ],
      "metadata": {
        "colab": {
          "base_uri": "https://localhost:8080/",
          "height": 1000
        },
        "id": "4sO42KRkP-1O",
        "outputId": "ede854a4-9ac4-4c8b-bad9-ce1ac212438c"
      },
      "execution_count": 284,
      "outputs": [
        {
          "output_type": "stream",
          "name": "stdout",
          "text": [
            "LogisticRegression(max_iter=3000)\n",
            "Độ chính xác: 78.86178861788618\n",
            "Cross validation: 0.809462881514061\n",
            "--------------------------------------------------\n",
            "DecisionTreeClassifier(max_depth=4)\n",
            "Độ chính xác: 75.60975609756098\n",
            "Cross validation: 0.7980274556843929\n",
            "--------------------------------------------------\n",
            "RandomForestClassifier()\n",
            "Độ chính xác: 76.42276422764228\n",
            "Cross validation: 0.79156337465014\n",
            "--------------------------------------------------\n",
            "KNeighborsClassifier()\n",
            "Độ chính xác: 72.35772357723577\n",
            "Cross validation: 0.755684392909503\n",
            "--------------------------------------------------\n",
            "SVC()\n",
            "Độ chính xác: 65.04065040650406\n",
            "Cross validation: 0.7230707716913234\n",
            "--------------------------------------------------\n"
          ]
        },
        {
          "output_type": "display_data",
          "data": {
            "text/plain": [
              "<Figure size 432x288 with 2 Axes>"
            ],
            "image/png": "[encoded data removed]"
          },
          "metadata": {
            "needs_background": "light"
          }
        },
        {
          "output_type": "display_data",
          "data": {
            "text/plain": [
              "<Figure size 360x360 with 2 Axes>"
            ],
            "image/png": "[encoded data removed]"
          },
          "metadata": {
            "needs_background": "light"
          }
        },
        {
          "output_type": "display_data",
          "data": {
            "text/plain": [
              "<Figure size 360x360 with 2 Axes>"
            ],
            "image/png": "[encoded data removed]"
          },
          "metadata": {
            "needs_background": "light"
          }
        },
        {
          "output_type": "display_data",
          "data": {
            "text/plain": [
              "<Figure size 360x360 with 2 Axes>"
            ],
            "image/png": "[encoded data removed]"
          },
          "metadata": {
            "needs_background": "light"
          }
        },
        {
          "output_type": "display_data",
          "data": {
            "text/plain": [
              "<Figure size 360x360 with 2 Axes>"
            ],
            "image/png": "[encoded data removed]"
          },
          "metadata": {
            "needs_background": "light"
          }
        },
        {
          "output_type": "display_data",
          "data": {
            "text/plain": [
              "<Figure size 360x360 with 0 Axes>"
            ]
          },
          "metadata": {}
        }
      ]
    },
    {
      "cell_type": "markdown",
      "source": [
        "### Thực nghiệm bằng tập dữ liệu chưa dán nhãn"
      ],
      "metadata": {
        "id": "5N7HjM_jgEiH"
      }
    },
    {
      "cell_type": "code",
      "source": [
        "test_df = pd.read_csv('/content/drive/MyDrive/test.csv')\n",
        "test_df.head()"
      ],
      "metadata": {
        "colab": {
          "base_uri": "https://localhost:8080/",
          "height": 206
        },
        "id": "YJgzMHvvjdeK",
        "outputId": "301033c2-ea12-41f9-a6e5-38edf41aafc3"
      },
      "execution_count": 285,
      "outputs": [
        {
          "output_type": "execute_result",
          "data": {
            "text/plain": [
              "    Loan_ID Gender Married Dependents     Education Self_Employed  \\\n",
              "0  LP001015   Male     Yes          0      Graduate            No   \n",
              "1  LP001022   Male     Yes          1      Graduate            No   \n",
              "2  LP001031   Male     Yes          2      Graduate            No   \n",
              "3  LP001035   Male     Yes          2      Graduate            No   \n",
              "4  LP001051   Male      No          0  Not Graduate            No   \n",
              "\n",
              "   ApplicantIncome  CoapplicantIncome  LoanAmount  Loan_Amount_Term  \\\n",
              "0             5720                  0       110.0             360.0   \n",
              "1             3076               1500       126.0             360.0   \n",
              "2             5000               1800       208.0             360.0   \n",
              "3             2340               2546       100.0             360.0   \n",
              "4             3276                  0        78.0             360.0   \n",
              "\n",
              "   Credit_History Property_Area  \n",
              "0             1.0         Urban  \n",
              "1             1.0         Urban  \n",
              "2             1.0         Urban  \n",
              "3             NaN         Urban  \n",
              "4             1.0         Urban  "
            ],
            "text/html": [
              "\n",
              "  <div id=\"df-acc2b5c7-0f7b-4e18-987d-4a1f8075d925\">\n",
              "    <div class=\"colab-df-container\">\n",
              "      <div>\n",
              "<style scoped>\n",
              "    .dataframe tbody tr th:only-of-type {\n",
              "        vertical-align: middle;\n",
              "    }\n",
              "\n",
              "    .dataframe tbody tr th {\n",
              "        vertical-align: top;\n",
              "    }\n",
              "\n",
              "    .dataframe thead th {\n",
              "        text-align: right;\n",
              "    }\n",
              "</style>\n",
              "<table border=\"1\" class=\"dataframe\">\n",
              "  <thead>\n",
              "    <tr style=\"text-align: right;\">\n",
              "      <th></th>\n",
              "      <th>Loan_ID</th>\n",
              "      <th>Gender</th>\n",
              "      <th>Married</th>\n",
              "      <th>Dependents</th>\n",
              "      <th>Education</th>\n",
              "      <th>Self_Employed</th>\n",
              "      <th>ApplicantIncome</th>\n",
              "      <th>CoapplicantIncome</th>\n",
              "      <th>LoanAmount</th>\n",
              "      <th>Loan_Amount_Term</th>\n",
              "      <th>Credit_History</th>\n",
              "      <th>Property_Area</th>\n",
              "    </tr>\n",
              "  </thead>\n",
              "  <tbody>\n",
              "    <tr>\n",
              "      <th>0</th>\n",
              "      <td>LP001015</td>\n",
              "      <td>Male</td>\n",
              "      <td>Yes</td>\n",
              "      <td>0</td>\n",
              "      <td>Graduate</td>\n",
              "      <td>No</td>\n",
              "      <td>5720</td>\n",
              "      <td>0</td>\n",
              "      <td>110.0</td>\n",
              "      <td>360.0</td>\n",
              "      <td>1.0</td>\n",
              "      <td>Urban</td>\n",
              "    </tr>\n",
              "    <tr>\n",
              "      <th>1</th>\n",
              "      <td>LP001022</td>\n",
              "      <td>Male</td>\n",
              "      <td>Yes</td>\n",
              "      <td>1</td>\n",
              "      <td>Graduate</td>\n",
              "      <td>No</td>\n",
              "      <td>3076</td>\n",
              "      <td>1500</td>\n",
              "      <td>126.0</td>\n",
              "      <td>360.0</td>\n",
              "      <td>1.0</td>\n",
              "      <td>Urban</td>\n",
              "    </tr>\n",
              "    <tr>\n",
              "      <th>2</th>\n",
              "      <td>LP001031</td>\n",
              "      <td>Male</td>\n",
              "      <td>Yes</td>\n",
              "      <td>2</td>\n",
              "      <td>Graduate</td>\n",
              "      <td>No</td>\n",
              "      <td>5000</td>\n",
              "      <td>1800</td>\n",
              "      <td>208.0</td>\n",
              "      <td>360.0</td>\n",
              "      <td>1.0</td>\n",
              "      <td>Urban</td>\n",
              "    </tr>\n",
              "    <tr>\n",
              "      <th>3</th>\n",
              "      <td>LP001035</td>\n",
              "      <td>Male</td>\n",
              "      <td>Yes</td>\n",
              "      <td>2</td>\n",
              "      <td>Graduate</td>\n",
              "      <td>No</td>\n",
              "      <td>2340</td>\n",
              "      <td>2546</td>\n",
              "      <td>100.0</td>\n",
              "      <td>360.0</td>\n",
              "      <td>NaN</td>\n",
              "      <td>Urban</td>\n",
              "    </tr>\n",
              "    <tr>\n",
              "      <th>4</th>\n",
              "      <td>LP001051</td>\n",
              "      <td>Male</td>\n",
              "      <td>No</td>\n",
              "      <td>0</td>\n",
              "      <td>Not Graduate</td>\n",
              "      <td>No</td>\n",
              "      <td>3276</td>\n",
              "      <td>0</td>\n",
              "      <td>78.0</td>\n",
              "      <td>360.0</td>\n",
              "      <td>1.0</td>\n",
              "      <td>Urban</td>\n",
              "    </tr>\n",
              "  </tbody>\n",
              "</table>\n",
              "</div>\n",
              "      <button class=\"colab-df-convert\" onclick=\"convertToInteractive('df-acc2b5c7-0f7b-4e18-987d-4a1f8075d925')\"\n",
              "              title=\"Convert this dataframe to an interactive table.\"\n",
              "              style=\"display:none;\">\n",
              "        \n",
              "  <svg xmlns=\"http://www.w3.org/2000/svg\" height=\"24px\"viewBox=\"0 0 24 24\"\n",
              "       width=\"24px\">\n",
              "    <path d=\"M0 0h24v24H0V0z\" fill=\"none\"/>\n",
              "    <path d=\"M18.56 5.44l.94 2.06.94-2.06 2.06-.94-2.06-.94-.94-2.06-.94 2.06-2.06.94zm-11 1L8.5 8.5l.94-2.06 2.06-.94-2.06-.94L8.5 2.5l-.94 2.06-2.06.94zm10 10l.94 2.06.94-2.06 2.06-.94-2.06-.94-.94-2.06-.94 2.06-2.06.94z\"/><path d=\"M17.41 7.96l-1.37-1.37c-.4-.4-.92-.59-1.43-.59-.52 0-1.04.2-1.43.59L10.3 9.45l-7.72 7.72c-.78.78-.78 2.05 0 2.83L4 21.41c.39.39.9.59 1.41.59.51 0 1.02-.2 1.41-.59l7.78-7.78 2.81-2.81c.8-.78.8-2.07 0-2.86zM5.41 20L4 18.59l7.72-7.72 1.47 1.35L5.41 20z\"/>\n",
              "  </svg>\n",
              "      </button>\n",
              "      \n",
              "  <style>\n",
              "    .colab-df-container {\n",
              "      display:flex;\n",
              "      flex-wrap:wrap;\n",
              "      gap: 12px;\n",
              "    }\n",
              "\n",
              "    .colab-df-convert {\n",
              "      background-color: #E8F0FE;\n",
              "      border: none;\n",
              "      border-radius: 50%;\n",
              "      cursor: pointer;\n",
              "      display: none;\n",
              "      fill: #1967D2;\n",
              "      height: 32px;\n",
              "      padding: 0 0 0 0;\n",
              "      width: 32px;\n",
              "    }\n",
              "\n",
              "    .colab-df-convert:hover {\n",
              "      background-color: #E2EBFA;\n",
              "      box-shadow: 0px 1px 2px rgba(60, 64, 67, 0.3), 0px 1px 3px 1px rgba(60, 64, 67, 0.15);\n",
              "      fill: #174EA6;\n",
              "    }\n",
              "\n",
              "    [theme=dark] .colab-df-convert {\n",
              "      background-color: #3B4455;\n",
              "      fill: #D2E3FC;\n",
              "    }\n",
              "\n",
              "    [theme=dark] .colab-df-convert:hover {\n",
              "      background-color: #434B5C;\n",
              "      box-shadow: 0px 1px 3px 1px rgba(0, 0, 0, 0.15);\n",
              "      filter: drop-shadow(0px 1px 2px rgba(0, 0, 0, 0.3));\n",
              "      fill: #FFFFFF;\n",
              "    }\n",
              "  </style>\n",
              "\n",
              "      <script>\n",
              "        const buttonEl =\n",
              "          document.querySelector('#df-acc2b5c7-0f7b-4e18-987d-4a1f8075d925 button.colab-df-convert');\n",
              "        buttonEl.style.display =\n",
              "          google.colab.kernel.accessAllowed ? 'block' : 'none';\n",
              "\n",
              "        async function convertToInteractive(key) {\n",
              "          const element = document.querySelector('#df-acc2b5c7-0f7b-4e18-987d-4a1f8075d925');\n",
              "          const dataTable =\n",
              "            await google.colab.kernel.invokeFunction('convertToInteractive',\n",
              "                                                     [key], {});\n",
              "          if (!dataTable) return;\n",
              "\n",
              "          const docLinkHtml = 'Like what you see? Visit the ' +\n",
              "            '<a target=\"_blank\" href=https://colab.research.google.com/notebooks/data_table.ipynb>data table notebook</a>'\n",
              "            + ' to learn more about interactive tables.';\n",
              "          element.innerHTML = '';\n",
              "          dataTable['output_type'] = 'display_data';\n",
              "          await google.colab.output.renderOutput(dataTable, element);\n",
              "          const docLink = document.createElement('div');\n",
              "          docLink.innerHTML = docLinkHtml;\n",
              "          element.appendChild(docLink);\n",
              "        }\n",
              "      </script>\n",
              "    </div>\n",
              "  </div>\n",
              "  "
            ]
          },
          "metadata": {},
          "execution_count": 285
        }
      ]
    },
    {
      "cell_type": "code",
      "source": [
        "test_df.shape"
      ],
      "metadata": {
        "colab": {
          "base_uri": "https://localhost:8080/"
        },
        "id": "JhQhTA2TohPj",
        "outputId": "9d74ed44-a718-453f-a929-5afe6e2137ad"
      },
      "execution_count": 286,
      "outputs": [
        {
          "output_type": "execute_result",
          "data": {
            "text/plain": [
              "(367, 12)"
            ]
          },
          "metadata": {},
          "execution_count": 286
        }
      ]
    },
    {
      "cell_type": "code",
      "source": [
        "# đếm các số lượng các dữ liệu bị thiếu theo từng cột\n",
        "test_df.isnull().sum()"
      ],
      "metadata": {
        "colab": {
          "base_uri": "https://localhost:8080/"
        },
        "id": "QBy1o4R_jzF_",
        "outputId": "f11ce89b-f810-4d38-f4ad-e3a52f47ff94"
      },
      "execution_count": 287,
      "outputs": [
        {
          "output_type": "execute_result",
          "data": {
            "text/plain": [
              "Loan_ID               0\n",
              "Gender               11\n",
              "Married               0\n",
              "Dependents           10\n",
              "Education             0\n",
              "Self_Employed        23\n",
              "ApplicantIncome       0\n",
              "CoapplicantIncome     0\n",
              "LoanAmount            5\n",
              "Loan_Amount_Term      6\n",
              "Credit_History       29\n",
              "Property_Area         0\n",
              "dtype: int64"
            ]
          },
          "metadata": {},
          "execution_count": 287
        }
      ]
    },
    {
      "cell_type": "code",
      "source": [
        "# lắp giá trị xuất hiện nhiều nhất vào các giá trị null\n",
        "test_df['Gender'].fillna(test_df['Gender'].dropna().mode().values[0], inplace=True)\n",
        "test_df['Married'].fillna(test_df['Married'].dropna().mode().values[0], inplace=True)\n",
        "test_df['Dependents'].fillna(test_df['Dependents'].dropna().mode().values[0], inplace=True)\n",
        "test_df['Self_Employed'].fillna(test_df['Self_Employed'].dropna().mode().values[0], inplace=True)\n",
        "\n",
        "test_df['Loan_Amount_Term'].fillna(test_df['Loan_Amount_Term'].dropna().mode().values[0], inplace=True)\n",
        "test_df['Credit_History'].fillna(test_df['Credit_History'].dropna().mode().values[0], inplace=True)\n",
        "\n",
        "\n",
        "# lắp giá trị trung bình của toàn tập dữ liệu\n",
        "test_df['LoanAmount'].fillna(test_df['LoanAmount'].dropna().mean(), inplace=True)"
      ],
      "metadata": {
        "id": "GfKJ-cQ6j9Es"
      },
      "execution_count": 288,
      "outputs": []
    },
    {
      "cell_type": "code",
      "source": [
        "# đếm các số lượng các dữ liệu bị thiếu theo từng cột\n",
        "test_df.isnull().sum()"
      ],
      "metadata": {
        "colab": {
          "base_uri": "https://localhost:8080/"
        },
        "id": "8e_pLJhWkBrF",
        "outputId": "d0796ee7-d5b0-4043-c2f3-aae53d706567"
      },
      "execution_count": 289,
      "outputs": [
        {
          "output_type": "execute_result",
          "data": {
            "text/plain": [
              "Loan_ID              0\n",
              "Gender               0\n",
              "Married              0\n",
              "Dependents           0\n",
              "Education            0\n",
              "Self_Employed        0\n",
              "ApplicantIncome      0\n",
              "CoapplicantIncome    0\n",
              "LoanAmount           0\n",
              "Loan_Amount_Term     0\n",
              "Credit_History       0\n",
              "Property_Area        0\n",
              "dtype: int64"
            ]
          },
          "metadata": {},
          "execution_count": 289
        }
      ]
    },
    {
      "cell_type": "code",
      "source": [
        "test_df['Total_Income'] = test_df['ApplicantIncome'] + test_df['CoapplicantIncome']\n",
        "\n",
        "test_df['ApplicantIncomeLog'] = np.log(test_df['ApplicantIncome'])\n",
        "test_df['CoapplicantIncomeLog'] = np.log(test_df['CoapplicantIncome'])\n",
        "test_df['LoanAmountLog'] = np.log(test_df['LoanAmount'])\n",
        "test_df['Loan_Amount_Term_Log'] = np.log(test_df['Loan_Amount_Term'])\n",
        "test_df['Total_Income_Log'] = np.log(test_df['Total_Income'])"
      ],
      "metadata": {
        "colab": {
          "base_uri": "https://localhost:8080/"
        },
        "id": "xW29M1XTkiw2",
        "outputId": "1552c094-4521-4df4-a616-bcfcb93bb15d"
      },
      "execution_count": 290,
      "outputs": [
        {
          "output_type": "stream",
          "name": "stderr",
          "text": [
            "/usr/local/lib/python3.7/dist-packages/pandas/core/arraylike.py:364: RuntimeWarning: divide by zero encountered in log\n",
            "  result = getattr(ufunc, method)(*inputs, **kwargs)\n"
          ]
        }
      ]
    },
    {
      "cell_type": "code",
      "source": [
        "test_df.head()"
      ],
      "metadata": {
        "colab": {
          "base_uri": "https://localhost:8080/",
          "height": 288
        },
        "id": "eC21-kB54Q3n",
        "outputId": "4b2d51f3-878e-4cd4-91ba-747c8486abec"
      },
      "execution_count": 292,
      "outputs": [
        {
          "output_type": "execute_result",
          "data": {
            "text/plain": [
              "    Loan_ID Gender Married Dependents     Education Self_Employed  \\\n",
              "0  LP001015   Male     Yes          0      Graduate            No   \n",
              "1  LP001022   Male     Yes          1      Graduate            No   \n",
              "2  LP001031   Male     Yes          2      Graduate            No   \n",
              "3  LP001035   Male     Yes          2      Graduate            No   \n",
              "4  LP001051   Male      No          0  Not Graduate            No   \n",
              "\n",
              "   ApplicantIncome  CoapplicantIncome  LoanAmount  Loan_Amount_Term  \\\n",
              "0             5720                  0       110.0             360.0   \n",
              "1             3076               1500       126.0             360.0   \n",
              "2             5000               1800       208.0             360.0   \n",
              "3             2340               2546       100.0             360.0   \n",
              "4             3276                  0        78.0             360.0   \n",
              "\n",
              "   Credit_History Property_Area  Total_Income  ApplicantIncomeLog  \\\n",
              "0             1.0         Urban          5720            8.651724   \n",
              "1             1.0         Urban          4576            8.031385   \n",
              "2             1.0         Urban          6800            8.517193   \n",
              "3             1.0         Urban          4886            7.757906   \n",
              "4             1.0         Urban          3276            8.094378   \n",
              "\n",
              "   CoapplicantIncomeLog  LoanAmountLog  Loan_Amount_Term_Log  Total_Income_Log  \n",
              "0                  -inf       4.700480              5.886104          8.651724  \n",
              "1              7.313220       4.836282              5.886104          8.428581  \n",
              "2              7.495542       5.337538              5.886104          8.824678  \n",
              "3              7.842279       4.605170              5.886104          8.494129  \n",
              "4                  -inf       4.356709              5.886104          8.094378  "
            ],
            "text/html": [
              "\n",
              "  <div id=\"df-e461ff97-45b6-4797-83a5-266c1e426d84\">\n",
              "    <div class=\"colab-df-container\">\n",
              "      <div>\n",
              "<style scoped>\n",
              "    .dataframe tbody tr th:only-of-type {\n",
              "        vertical-align: middle;\n",
              "    }\n",
              "\n",
              "    .dataframe tbody tr th {\n",
              "        vertical-align: top;\n",
              "    }\n",
              "\n",
              "    .dataframe thead th {\n",
              "        text-align: right;\n",
              "    }\n",
              "</style>\n",
              "<table border=\"1\" class=\"dataframe\">\n",
              "  <thead>\n",
              "    <tr style=\"text-align: right;\">\n",
              "      <th></th>\n",
              "      <th>Loan_ID</th>\n",
              "      <th>Gender</th>\n",
              "      <th>Married</th>\n",
              "      <th>Dependents</th>\n",
              "      <th>Education</th>\n",
              "      <th>Self_Employed</th>\n",
              "      <th>ApplicantIncome</th>\n",
              "      <th>CoapplicantIncome</th>\n",
              "      <th>LoanAmount</th>\n",
              "      <th>Loan_Amount_Term</th>\n",
              "      <th>Credit_History</th>\n",
              "      <th>Property_Area</th>\n",
              "      <th>Total_Income</th>\n",
              "      <th>ApplicantIncomeLog</th>\n",
              "      <th>CoapplicantIncomeLog</th>\n",
              "      <th>LoanAmountLog</th>\n",
              "      <th>Loan_Amount_Term_Log</th>\n",
              "      <th>Total_Income_Log</th>\n",
              "    </tr>\n",
              "  </thead>\n",
              "  <tbody>\n",
              "    <tr>\n",
              "      <th>0</th>\n",
              "      <td>LP001015</td>\n",
              "      <td>Male</td>\n",
              "      <td>Yes</td>\n",
              "      <td>0</td>\n",
              "      <td>Graduate</td>\n",
              "      <td>No</td>\n",
              "      <td>5720</td>\n",
              "      <td>0</td>\n",
              "      <td>110.0</td>\n",
              "      <td>360.0</td>\n",
              "      <td>1.0</td>\n",
              "      <td>Urban</td>\n",
              "      <td>5720</td>\n",
              "      <td>8.651724</td>\n",
              "      <td>-inf</td>\n",
              "      <td>4.700480</td>\n",
              "      <td>5.886104</td>\n",
              "      <td>8.651724</td>\n",
              "    </tr>\n",
              "    <tr>\n",
              "      <th>1</th>\n",
              "      <td>LP001022</td>\n",
              "      <td>Male</td>\n",
              "      <td>Yes</td>\n",
              "      <td>1</td>\n",
              "      <td>Graduate</td>\n",
              "      <td>No</td>\n",
              "      <td>3076</td>\n",
              "      <td>1500</td>\n",
              "      <td>126.0</td>\n",
              "      <td>360.0</td>\n",
              "      <td>1.0</td>\n",
              "      <td>Urban</td>\n",
              "      <td>4576</td>\n",
              "      <td>8.031385</td>\n",
              "      <td>7.313220</td>\n",
              "      <td>4.836282</td>\n",
              "      <td>5.886104</td>\n",
              "      <td>8.428581</td>\n",
              "    </tr>\n",
              "    <tr>\n",
              "      <th>2</th>\n",
              "      <td>LP001031</td>\n",
              "      <td>Male</td>\n",
              "      <td>Yes</td>\n",
              "      <td>2</td>\n",
              "      <td>Graduate</td>\n",
              "      <td>No</td>\n",
              "      <td>5000</td>\n",
              "      <td>1800</td>\n",
              "      <td>208.0</td>\n",
              "      <td>360.0</td>\n",
              "      <td>1.0</td>\n",
              "      <td>Urban</td>\n",
              "      <td>6800</td>\n",
              "      <td>8.517193</td>\n",
              "      <td>7.495542</td>\n",
              "      <td>5.337538</td>\n",
              "      <td>5.886104</td>\n",
              "      <td>8.824678</td>\n",
              "    </tr>\n",
              "    <tr>\n",
              "      <th>3</th>\n",
              "      <td>LP001035</td>\n",
              "      <td>Male</td>\n",
              "      <td>Yes</td>\n",
              "      <td>2</td>\n",
              "      <td>Graduate</td>\n",
              "      <td>No</td>\n",
              "      <td>2340</td>\n",
              "      <td>2546</td>\n",
              "      <td>100.0</td>\n",
              "      <td>360.0</td>\n",
              "      <td>1.0</td>\n",
              "      <td>Urban</td>\n",
              "      <td>4886</td>\n",
              "      <td>7.757906</td>\n",
              "      <td>7.842279</td>\n",
              "      <td>4.605170</td>\n",
              "      <td>5.886104</td>\n",
              "      <td>8.494129</td>\n",
              "    </tr>\n",
              "    <tr>\n",
              "      <th>4</th>\n",
              "      <td>LP001051</td>\n",
              "      <td>Male</td>\n",
              "      <td>No</td>\n",
              "      <td>0</td>\n",
              "      <td>Not Graduate</td>\n",
              "      <td>No</td>\n",
              "      <td>3276</td>\n",
              "      <td>0</td>\n",
              "      <td>78.0</td>\n",
              "      <td>360.0</td>\n",
              "      <td>1.0</td>\n",
              "      <td>Urban</td>\n",
              "      <td>3276</td>\n",
              "      <td>8.094378</td>\n",
              "      <td>-inf</td>\n",
              "      <td>4.356709</td>\n",
              "      <td>5.886104</td>\n",
              "      <td>8.094378</td>\n",
              "    </tr>\n",
              "  </tbody>\n",
              "</table>\n",
              "</div>\n",
              "      <button class=\"colab-df-convert\" onclick=\"convertToInteractive('df-e461ff97-45b6-4797-83a5-266c1e426d84')\"\n",
              "              title=\"Convert this dataframe to an interactive table.\"\n",
              "              style=\"display:none;\">\n",
              "        \n",
              "  <svg xmlns=\"http://www.w3.org/2000/svg\" height=\"24px\"viewBox=\"0 0 24 24\"\n",
              "       width=\"24px\">\n",
              "    <path d=\"M0 0h24v24H0V0z\" fill=\"none\"/>\n",
              "    <path d=\"M18.56 5.44l.94 2.06.94-2.06 2.06-.94-2.06-.94-.94-2.06-.94 2.06-2.06.94zm-11 1L8.5 8.5l.94-2.06 2.06-.94-2.06-.94L8.5 2.5l-.94 2.06-2.06.94zm10 10l.94 2.06.94-2.06 2.06-.94-2.06-.94-.94-2.06-.94 2.06-2.06.94z\"/><path d=\"M17.41 7.96l-1.37-1.37c-.4-.4-.92-.59-1.43-.59-.52 0-1.04.2-1.43.59L10.3 9.45l-7.72 7.72c-.78.78-.78 2.05 0 2.83L4 21.41c.39.39.9.59 1.41.59.51 0 1.02-.2 1.41-.59l7.78-7.78 2.81-2.81c.8-.78.8-2.07 0-2.86zM5.41 20L4 18.59l7.72-7.72 1.47 1.35L5.41 20z\"/>\n",
              "  </svg>\n",
              "      </button>\n",
              "      \n",
              "  <style>\n",
              "    .colab-df-container {\n",
              "      display:flex;\n",
              "      flex-wrap:wrap;\n",
              "      gap: 12px;\n",
              "    }\n",
              "\n",
              "    .colab-df-convert {\n",
              "      background-color: #E8F0FE;\n",
              "      border: none;\n",
              "      border-radius: 50%;\n",
              "      cursor: pointer;\n",
              "      display: none;\n",
              "      fill: #1967D2;\n",
              "      height: 32px;\n",
              "      padding: 0 0 0 0;\n",
              "      width: 32px;\n",
              "    }\n",
              "\n",
              "    .colab-df-convert:hover {\n",
              "      background-color: #E2EBFA;\n",
              "      box-shadow: 0px 1px 2px rgba(60, 64, 67, 0.3), 0px 1px 3px 1px rgba(60, 64, 67, 0.15);\n",
              "      fill: #174EA6;\n",
              "    }\n",
              "\n",
              "    [theme=dark] .colab-df-convert {\n",
              "      background-color: #3B4455;\n",
              "      fill: #D2E3FC;\n",
              "    }\n",
              "\n",
              "    [theme=dark] .colab-df-convert:hover {\n",
              "      background-color: #434B5C;\n",
              "      box-shadow: 0px 1px 3px 1px rgba(0, 0, 0, 0.15);\n",
              "      filter: drop-shadow(0px 1px 2px rgba(0, 0, 0, 0.3));\n",
              "      fill: #FFFFFF;\n",
              "    }\n",
              "  </style>\n",
              "\n",
              "      <script>\n",
              "        const buttonEl =\n",
              "          document.querySelector('#df-e461ff97-45b6-4797-83a5-266c1e426d84 button.colab-df-convert');\n",
              "        buttonEl.style.display =\n",
              "          google.colab.kernel.accessAllowed ? 'block' : 'none';\n",
              "\n",
              "        async function convertToInteractive(key) {\n",
              "          const element = document.querySelector('#df-e461ff97-45b6-4797-83a5-266c1e426d84');\n",
              "          const dataTable =\n",
              "            await google.colab.kernel.invokeFunction('convertToInteractive',\n",
              "                                                     [key], {});\n",
              "          if (!dataTable) return;\n",
              "\n",
              "          const docLinkHtml = 'Like what you see? Visit the ' +\n",
              "            '<a target=\"_blank\" href=https://colab.research.google.com/notebooks/data_table.ipynb>data table notebook</a>'\n",
              "            + ' to learn more about interactive tables.';\n",
              "          element.innerHTML = '';\n",
              "          dataTable['output_type'] = 'display_data';\n",
              "          await google.colab.output.renderOutput(dataTable, element);\n",
              "          const docLink = document.createElement('div');\n",
              "          docLink.innerHTML = docLinkHtml;\n",
              "          element.appendChild(docLink);\n",
              "        }\n",
              "      </script>\n",
              "    </div>\n",
              "  </div>\n",
              "  "
            ]
          },
          "metadata": {},
          "execution_count": 292
        }
      ]
    },
    {
      "cell_type": "code",
      "source": [
        "for obj_col in obj_cols:\n",
        "  if (obj_col != 'Loan_Status'):\n",
        "    print(obj_col,set(test_df[obj_col].values.tolist()))"
      ],
      "metadata": {
        "colab": {
          "base_uri": "https://localhost:8080/"
        },
        "id": "jsnK_xBI2U0F",
        "outputId": "35a51043-85be-4d22-c158-1f41cfbe1aaf"
      },
      "execution_count": 294,
      "outputs": [
        {
          "output_type": "stream",
          "name": "stdout",
          "text": [
            "Gender {'Male', 'Female'}\n",
            "Dependents {'2', '1', '3+', '0'}\n",
            "Married {'Yes', 'No'}\n",
            "Education {'Graduate', 'Not Graduate'}\n",
            "Self_Employed {'Yes', 'No'}\n",
            "Property_Area {'Semiurban', 'Rural', 'Urban'}\n"
          ]
        }
      ]
    },
    {
      "cell_type": "code",
      "source": [
        "# chuyển về dạng số\n",
        "lab_test = LabelEncoder()\n",
        "\n",
        "for col in obj_cols:\n",
        "  if (col != 'Loan_Status'):\n",
        "    test_df[col] = lab_test.fit_transform(test_df[col])"
      ],
      "metadata": {
        "id": "XKPm3gfsky15"
      },
      "execution_count": 295,
      "outputs": []
    },
    {
      "cell_type": "code",
      "source": [
        "  for obj_col in obj_cols:\n",
        "    if (obj_col != 'Loan_Status'):\n",
        "      print(obj_col,set(test_df[obj_col].values.tolist()))"
      ],
      "metadata": {
        "colab": {
          "base_uri": "https://localhost:8080/"
        },
        "id": "TnyL1mwwmlEd",
        "outputId": "5724b395-729b-452f-cee6-cbd06bdbeb8b"
      },
      "execution_count": 296,
      "outputs": [
        {
          "output_type": "stream",
          "name": "stdout",
          "text": [
            "Gender {0, 1}\n",
            "Dependents {0, 1, 2, 3}\n",
            "Married {0, 1}\n",
            "Education {0, 1}\n",
            "Self_Employed {0, 1}\n",
            "Property_Area {0, 1, 2}\n"
          ]
        }
      ]
    },
    {
      "cell_type": "code",
      "source": [
        "X_test_from_test_df = test_df.drop(['Loan_ID', 'ApplicantIncome', 'CoapplicantIncome', 'LoanAmount', 'Loan_Amount_Term', 'CoapplicantIncomeLog', 'Total_Income'], axis = 1)\n",
        "X_test_from_test_df.replace([np.inf, -np.inf], np.nan, inplace=True)\n",
        "X_test_from_test_df['ApplicantIncomeLog'].fillna(X_test_from_test_df['ApplicantIncomeLog'].dropna().mean(), inplace=True)"
      ],
      "metadata": {
        "id": "sN1baR8vm3Tg"
      },
      "execution_count": 297,
      "outputs": []
    },
    {
      "cell_type": "markdown",
      "source": [
        "Ta nhận thấy sau khi train tập dữ liệu trước đó, đối với thuật toán LogisticRegression, DecisionTreeClassifier và RandomForestClassifier có độ chính xác khá cao (trên 75%) vì vậy ta sẽ dùng hai thuật toán này để thực nghiệm với tập dữ liệu chưa dán nhãn."
      ],
      "metadata": {
        "id": "i7BnkbwWn6ej"
      }
    },
    {
      "cell_type": "code",
      "source": [
        "log_re = LogisticRegression(max_iter=3000, random_state=42)\n",
        "log_re.fit(X_train, Y_train)\n",
        "Y_pred_test_with_log_re = log_re.predict(X_test_from_test_df)"
      ],
      "metadata": {
        "id": "DYLmdegEoppj"
      },
      "execution_count": 298,
      "outputs": []
    },
    {
      "cell_type": "code",
      "source": [
        "test_final_with_log_re_df = pd.DataFrame(test_df['Loan_ID'])"
      ],
      "metadata": {
        "id": "k7Y5mvXGs3CP"
      },
      "execution_count": 299,
      "outputs": []
    },
    {
      "cell_type": "code",
      "source": [
        "test_final_with_log_re_df['Loan_Status'] = pd.DataFrame(data=Y_pred_test_with_log_re, columns=[\"Loan_Status\"])['Loan_Status'].map({0:'N', 1:'Y'})\n",
        "test_final_with_log_re_df.head()"
      ],
      "metadata": {
        "colab": {
          "base_uri": "https://localhost:8080/",
          "height": 206
        },
        "id": "1Co1YXfRtZKE",
        "outputId": "dda9e72d-e763-4450-b51f-c89d831e000d"
      },
      "execution_count": 300,
      "outputs": [
        {
          "output_type": "execute_result",
          "data": {
            "text/plain": [
              "    Loan_ID Loan_Status\n",
              "0  LP001015           Y\n",
              "1  LP001022           Y\n",
              "2  LP001031           Y\n",
              "3  LP001035           Y\n",
              "4  LP001051           Y"
            ],
            "text/html": [
              "\n",
              "  <div id=\"df-64fb2823-7818-42b5-baef-fb869b82f75d\">\n",
              "    <div class=\"colab-df-container\">\n",
              "      <div>\n",
              "<style scoped>\n",
              "    .dataframe tbody tr th:only-of-type {\n",
              "        vertical-align: middle;\n",
              "    }\n",
              "\n",
              "    .dataframe tbody tr th {\n",
              "        vertical-align: top;\n",
              "    }\n",
              "\n",
              "    .dataframe thead th {\n",
              "        text-align: right;\n",
              "    }\n",
              "</style>\n",
              "<table border=\"1\" class=\"dataframe\">\n",
              "  <thead>\n",
              "    <tr style=\"text-align: right;\">\n",
              "      <th></th>\n",
              "      <th>Loan_ID</th>\n",
              "      <th>Loan_Status</th>\n",
              "    </tr>\n",
              "  </thead>\n",
              "  <tbody>\n",
              "    <tr>\n",
              "      <th>0</th>\n",
              "      <td>LP001015</td>\n",
              "      <td>Y</td>\n",
              "    </tr>\n",
              "    <tr>\n",
              "      <th>1</th>\n",
              "      <td>LP001022</td>\n",
              "      <td>Y</td>\n",
              "    </tr>\n",
              "    <tr>\n",
              "      <th>2</th>\n",
              "      <td>LP001031</td>\n",
              "      <td>Y</td>\n",
              "    </tr>\n",
              "    <tr>\n",
              "      <th>3</th>\n",
              "      <td>LP001035</td>\n",
              "      <td>Y</td>\n",
              "    </tr>\n",
              "    <tr>\n",
              "      <th>4</th>\n",
              "      <td>LP001051</td>\n",
              "      <td>Y</td>\n",
              "    </tr>\n",
              "  </tbody>\n",
              "</table>\n",
              "</div>\n",
              "      <button class=\"colab-df-convert\" onclick=\"convertToInteractive('df-64fb2823-7818-42b5-baef-fb869b82f75d')\"\n",
              "              title=\"Convert this dataframe to an interactive table.\"\n",
              "              style=\"display:none;\">\n",
              "        \n",
              "  <svg xmlns=\"http://www.w3.org/2000/svg\" height=\"24px\"viewBox=\"0 0 24 24\"\n",
              "       width=\"24px\">\n",
              "    <path d=\"M0 0h24v24H0V0z\" fill=\"none\"/>\n",
              "    <path d=\"M18.56 5.44l.94 2.06.94-2.06 2.06-.94-2.06-.94-.94-2.06-.94 2.06-2.06.94zm-11 1L8.5 8.5l.94-2.06 2.06-.94-2.06-.94L8.5 2.5l-.94 2.06-2.06.94zm10 10l.94 2.06.94-2.06 2.06-.94-2.06-.94-.94-2.06-.94 2.06-2.06.94z\"/><path d=\"M17.41 7.96l-1.37-1.37c-.4-.4-.92-.59-1.43-.59-.52 0-1.04.2-1.43.59L10.3 9.45l-7.72 7.72c-.78.78-.78 2.05 0 2.83L4 21.41c.39.39.9.59 1.41.59.51 0 1.02-.2 1.41-.59l7.78-7.78 2.81-2.81c.8-.78.8-2.07 0-2.86zM5.41 20L4 18.59l7.72-7.72 1.47 1.35L5.41 20z\"/>\n",
              "  </svg>\n",
              "      </button>\n",
              "      \n",
              "  <style>\n",
              "    .colab-df-container {\n",
              "      display:flex;\n",
              "      flex-wrap:wrap;\n",
              "      gap: 12px;\n",
              "    }\n",
              "\n",
              "    .colab-df-convert {\n",
              "      background-color: #E8F0FE;\n",
              "      border: none;\n",
              "      border-radius: 50%;\n",
              "      cursor: pointer;\n",
              "      display: none;\n",
              "      fill: #1967D2;\n",
              "      height: 32px;\n",
              "      padding: 0 0 0 0;\n",
              "      width: 32px;\n",
              "    }\n",
              "\n",
              "    .colab-df-convert:hover {\n",
              "      background-color: #E2EBFA;\n",
              "      box-shadow: 0px 1px 2px rgba(60, 64, 67, 0.3), 0px 1px 3px 1px rgba(60, 64, 67, 0.15);\n",
              "      fill: #174EA6;\n",
              "    }\n",
              "\n",
              "    [theme=dark] .colab-df-convert {\n",
              "      background-color: #3B4455;\n",
              "      fill: #D2E3FC;\n",
              "    }\n",
              "\n",
              "    [theme=dark] .colab-df-convert:hover {\n",
              "      background-color: #434B5C;\n",
              "      box-shadow: 0px 1px 3px 1px rgba(0, 0, 0, 0.15);\n",
              "      filter: drop-shadow(0px 1px 2px rgba(0, 0, 0, 0.3));\n",
              "      fill: #FFFFFF;\n",
              "    }\n",
              "  </style>\n",
              "\n",
              "      <script>\n",
              "        const buttonEl =\n",
              "          document.querySelector('#df-64fb2823-7818-42b5-baef-fb869b82f75d button.colab-df-convert');\n",
              "        buttonEl.style.display =\n",
              "          google.colab.kernel.accessAllowed ? 'block' : 'none';\n",
              "\n",
              "        async function convertToInteractive(key) {\n",
              "          const element = document.querySelector('#df-64fb2823-7818-42b5-baef-fb869b82f75d');\n",
              "          const dataTable =\n",
              "            await google.colab.kernel.invokeFunction('convertToInteractive',\n",
              "                                                     [key], {});\n",
              "          if (!dataTable) return;\n",
              "\n",
              "          const docLinkHtml = 'Like what you see? Visit the ' +\n",
              "            '<a target=\"_blank\" href=https://colab.research.google.com/notebooks/data_table.ipynb>data table notebook</a>'\n",
              "            + ' to learn more about interactive tables.';\n",
              "          element.innerHTML = '';\n",
              "          dataTable['output_type'] = 'display_data';\n",
              "          await google.colab.output.renderOutput(dataTable, element);\n",
              "          const docLink = document.createElement('div');\n",
              "          docLink.innerHTML = docLinkHtml;\n",
              "          element.appendChild(docLink);\n",
              "        }\n",
              "      </script>\n",
              "    </div>\n",
              "  </div>\n",
              "  "
            ]
          },
          "metadata": {},
          "execution_count": 300
        }
      ]
    },
    {
      "cell_type": "code",
      "source": [
        "test_final_with_log_re_df['Loan_Status'].value_counts()"
      ],
      "metadata": {
        "colab": {
          "base_uri": "https://localhost:8080/"
        },
        "id": "H2Lda6q_ugDg",
        "outputId": "8ebc4f61-ea46-4b36-a26a-12712e6217d1"
      },
      "execution_count": 301,
      "outputs": [
        {
          "output_type": "execute_result",
          "data": {
            "text/plain": [
              "Y    308\n",
              "N     59\n",
              "Name: Loan_Status, dtype: int64"
            ]
          },
          "metadata": {},
          "execution_count": 301
        }
      ]
    },
    {
      "cell_type": "code",
      "source": [
        "# kết quả thực nghiệm\n",
        "sns.countplot(x='Loan_Status', data=test_final_with_log_re_df)"
      ],
      "metadata": {
        "colab": {
          "base_uri": "https://localhost:8080/",
          "height": 297
        },
        "id": "JJw2rIB9rxCH",
        "outputId": "39e89b5f-aa7c-4f50-adb0-d7eb405233d3"
      },
      "execution_count": 302,
      "outputs": [
        {
          "output_type": "execute_result",
          "data": {
            "text/plain": [
              "<matplotlib.axes._subplots.AxesSubplot at 0x7fb9313638d0>"
            ]
          },
          "metadata": {},
          "execution_count": 302
        },
        {
          "output_type": "display_data",
          "data": {
            "text/plain": [
              "<Figure size 432x288 with 1 Axes>"
            ],
            "image/png": "[encoded data removed]"
          },
          "metadata": {
            "needs_background": "light"
          }
        }
      ]
    },
    {
      "cell_type": "markdown",
      "source": [
        "Sau khi thực nghiệm bằng LogisticRegression ta thấy số lượng được chấp nhận cho vay là 308 và không được vay là 59"
      ],
      "metadata": {
        "id": "pAjE_gHkvTya"
      }
    },
    {
      "cell_type": "code",
      "source": [
        "ran_for = RandomForestClassifier()\n",
        "ran_for.fit(X_train, Y_train)\n",
        "Y_pred_test_with_ran_for = ran_for.predict(X_test_from_test_df)"
      ],
      "metadata": {
        "id": "PinHinwZz5fY"
      },
      "execution_count": 303,
      "outputs": []
    },
    {
      "cell_type": "code",
      "source": [
        "test_final_with_ran_for_df = pd.DataFrame(test_df['Loan_ID'])"
      ],
      "metadata": {
        "id": "V3BIouv60ztG"
      },
      "execution_count": 304,
      "outputs": []
    },
    {
      "cell_type": "code",
      "source": [
        "test_final_with_ran_for_df['Loan_Status'] = pd.DataFrame(data=Y_pred_test_with_ran_for, columns=[\"Loan_Status\"])['Loan_Status'].map({0:'N', 1:'Y'})\n",
        "test_final_with_ran_for_df.head()"
      ],
      "metadata": {
        "colab": {
          "base_uri": "https://localhost:8080/",
          "height": 206
        },
        "id": "ik1sRDHB06EQ",
        "outputId": "e1bc1ec2-eb36-4e9a-c86e-59694dd8760c"
      },
      "execution_count": 305,
      "outputs": [
        {
          "output_type": "execute_result",
          "data": {
            "text/plain": [
              "    Loan_ID Loan_Status\n",
              "0  LP001015           Y\n",
              "1  LP001022           Y\n",
              "2  LP001031           Y\n",
              "3  LP001035           Y\n",
              "4  LP001051           Y"
            ],
            "text/html": [
              "\n",
              "  <div id=\"df-d7781499-6120-41d4-8135-42aca059bbc5\">\n",
              "    <div class=\"colab-df-container\">\n",
              "      <div>\n",
              "<style scoped>\n",
              "    .dataframe tbody tr th:only-of-type {\n",
              "        vertical-align: middle;\n",
              "    }\n",
              "\n",
              "    .dataframe tbody tr th {\n",
              "        vertical-align: top;\n",
              "    }\n",
              "\n",
              "    .dataframe thead th {\n",
              "        text-align: right;\n",
              "    }\n",
              "</style>\n",
              "<table border=\"1\" class=\"dataframe\">\n",
              "  <thead>\n",
              "    <tr style=\"text-align: right;\">\n",
              "      <th></th>\n",
              "      <th>Loan_ID</th>\n",
              "      <th>Loan_Status</th>\n",
              "    </tr>\n",
              "  </thead>\n",
              "  <tbody>\n",
              "    <tr>\n",
              "      <th>0</th>\n",
              "      <td>LP001015</td>\n",
              "      <td>Y</td>\n",
              "    </tr>\n",
              "    <tr>\n",
              "      <th>1</th>\n",
              "      <td>LP001022</td>\n",
              "      <td>Y</td>\n",
              "    </tr>\n",
              "    <tr>\n",
              "      <th>2</th>\n",
              "      <td>LP001031</td>\n",
              "      <td>Y</td>\n",
              "    </tr>\n",
              "    <tr>\n",
              "      <th>3</th>\n",
              "      <td>LP001035</td>\n",
              "      <td>Y</td>\n",
              "    </tr>\n",
              "    <tr>\n",
              "      <th>4</th>\n",
              "      <td>LP001051</td>\n",
              "      <td>Y</td>\n",
              "    </tr>\n",
              "  </tbody>\n",
              "</table>\n",
              "</div>\n",
              "      <button class=\"colab-df-convert\" onclick=\"convertToInteractive('df-d7781499-6120-41d4-8135-42aca059bbc5')\"\n",
              "              title=\"Convert this dataframe to an interactive table.\"\n",
              "              style=\"display:none;\">\n",
              "        \n",
              "  <svg xmlns=\"http://www.w3.org/2000/svg\" height=\"24px\"viewBox=\"0 0 24 24\"\n",
              "       width=\"24px\">\n",
              "    <path d=\"M0 0h24v24H0V0z\" fill=\"none\"/>\n",
              "    <path d=\"M18.56 5.44l.94 2.06.94-2.06 2.06-.94-2.06-.94-.94-2.06-.94 2.06-2.06.94zm-11 1L8.5 8.5l.94-2.06 2.06-.94-2.06-.94L8.5 2.5l-.94 2.06-2.06.94zm10 10l.94 2.06.94-2.06 2.06-.94-2.06-.94-.94-2.06-.94 2.06-2.06.94z\"/><path d=\"M17.41 7.96l-1.37-1.37c-.4-.4-.92-.59-1.43-.59-.52 0-1.04.2-1.43.59L10.3 9.45l-7.72 7.72c-.78.78-.78 2.05 0 2.83L4 21.41c.39.39.9.59 1.41.59.51 0 1.02-.2 1.41-.59l7.78-7.78 2.81-2.81c.8-.78.8-2.07 0-2.86zM5.41 20L4 18.59l7.72-7.72 1.47 1.35L5.41 20z\"/>\n",
              "  </svg>\n",
              "      </button>\n",
              "      \n",
              "  <style>\n",
              "    .colab-df-container {\n",
              "      display:flex;\n",
              "      flex-wrap:wrap;\n",
              "      gap: 12px;\n",
              "    }\n",
              "\n",
              "    .colab-df-convert {\n",
              "      background-color: #E8F0FE;\n",
              "      border: none;\n",
              "      border-radius: 50%;\n",
              "      cursor: pointer;\n",
              "      display: none;\n",
              "      fill: #1967D2;\n",
              "      height: 32px;\n",
              "      padding: 0 0 0 0;\n",
              "      width: 32px;\n",
              "    }\n",
              "\n",
              "    .colab-df-convert:hover {\n",
              "      background-color: #E2EBFA;\n",
              "      box-shadow: 0px 1px 2px rgba(60, 64, 67, 0.3), 0px 1px 3px 1px rgba(60, 64, 67, 0.15);\n",
              "      fill: #174EA6;\n",
              "    }\n",
              "\n",
              "    [theme=dark] .colab-df-convert {\n",
              "      background-color: #3B4455;\n",
              "      fill: #D2E3FC;\n",
              "    }\n",
              "\n",
              "    [theme=dark] .colab-df-convert:hover {\n",
              "      background-color: #434B5C;\n",
              "      box-shadow: 0px 1px 3px 1px rgba(0, 0, 0, 0.15);\n",
              "      filter: drop-shadow(0px 1px 2px rgba(0, 0, 0, 0.3));\n",
              "      fill: #FFFFFF;\n",
              "    }\n",
              "  </style>\n",
              "\n",
              "      <script>\n",
              "        const buttonEl =\n",
              "          document.querySelector('#df-d7781499-6120-41d4-8135-42aca059bbc5 button.colab-df-convert');\n",
              "        buttonEl.style.display =\n",
              "          google.colab.kernel.accessAllowed ? 'block' : 'none';\n",
              "\n",
              "        async function convertToInteractive(key) {\n",
              "          const element = document.querySelector('#df-d7781499-6120-41d4-8135-42aca059bbc5');\n",
              "          const dataTable =\n",
              "            await google.colab.kernel.invokeFunction('convertToInteractive',\n",
              "                                                     [key], {});\n",
              "          if (!dataTable) return;\n",
              "\n",
              "          const docLinkHtml = 'Like what you see? Visit the ' +\n",
              "            '<a target=\"_blank\" href=https://colab.research.google.com/notebooks/data_table.ipynb>data table notebook</a>'\n",
              "            + ' to learn more about interactive tables.';\n",
              "          element.innerHTML = '';\n",
              "          dataTable['output_type'] = 'display_data';\n",
              "          await google.colab.output.renderOutput(dataTable, element);\n",
              "          const docLink = document.createElement('div');\n",
              "          docLink.innerHTML = docLinkHtml;\n",
              "          element.appendChild(docLink);\n",
              "        }\n",
              "      </script>\n",
              "    </div>\n",
              "  </div>\n",
              "  "
            ]
          },
          "metadata": {},
          "execution_count": 305
        }
      ]
    },
    {
      "cell_type": "code",
      "source": [
        "test_final_with_ran_for_df['Loan_Status'].value_counts()"
      ],
      "metadata": {
        "colab": {
          "base_uri": "https://localhost:8080/"
        },
        "id": "sHPOTxqD1V7u",
        "outputId": "82592232-d165-466e-852d-44d325b1a431"
      },
      "execution_count": 306,
      "outputs": [
        {
          "output_type": "execute_result",
          "data": {
            "text/plain": [
              "Y    299\n",
              "N     68\n",
              "Name: Loan_Status, dtype: int64"
            ]
          },
          "metadata": {},
          "execution_count": 306
        }
      ]
    },
    {
      "cell_type": "code",
      "source": [
        "# kết quả thực nghiệm\n",
        "sns.countplot(x='Loan_Status', data=test_final_with_ran_for_df)"
      ],
      "metadata": {
        "colab": {
          "base_uri": "https://localhost:8080/",
          "height": 297
        },
        "id": "Y6XWHcsH1bgs",
        "outputId": "68ffc0d1-1947-44f9-e32c-dff036638bc0"
      },
      "execution_count": 307,
      "outputs": [
        {
          "output_type": "execute_result",
          "data": {
            "text/plain": [
              "<matplotlib.axes._subplots.AxesSubplot at 0x7fb92e2469d0>"
            ]
          },
          "metadata": {},
          "execution_count": 307
        },
        {
          "output_type": "display_data",
          "data": {
            "text/plain": [
              "<Figure size 432x288 with 1 Axes>"
            ],
            "image/png": "[encoded data removed]"
          },
          "metadata": {
            "needs_background": "light"
          }
        }
      ]
    },
    {
      "cell_type": "markdown",
      "source": [
        "Sau khi thực nghiệm bằng RandomForestClassifier ta thấy số lượng được chấp nhận cho vay là 299 và không được vay là 68"
      ],
      "metadata": {
        "id": "eF0gnUes1onz"
      }
    },
    {
      "cell_type": "code",
      "source": [
        "dec_tr = DecisionTreeClassifier(max_depth=4)\n",
        "dec_tr.fit(X_train, Y_train)\n",
        "Y_pred_test_with_dec_tr = dec_tr.predict(X_test_from_test_df)"
      ],
      "metadata": {
        "id": "UnQn8pwsCSLn"
      },
      "execution_count": 309,
      "outputs": []
    },
    {
      "cell_type": "code",
      "source": [
        "test_final_with_dec_tr_df = pd.DataFrame(test_df['Loan_ID'])"
      ],
      "metadata": {
        "id": "pbqMsXWGCszd"
      },
      "execution_count": 310,
      "outputs": []
    },
    {
      "cell_type": "code",
      "source": [
        "test_final_with_dec_tr_df['Loan_Status'] = pd.DataFrame(data=Y_pred_test_with_dec_tr, columns=[\"Loan_Status\"])['Loan_Status'].map({0:'N', 1:'Y'})\n",
        "test_final_with_dec_tr_df.head()"
      ],
      "metadata": {
        "colab": {
          "base_uri": "https://localhost:8080/",
          "height": 206
        },
        "id": "cXNIhDUuCxyu",
        "outputId": "414e6c8a-24df-4823-d6b2-f6f5c9f83f05"
      },
      "execution_count": 311,
      "outputs": [
        {
          "output_type": "execute_result",
          "data": {
            "text/plain": [
              "    Loan_ID Loan_Status\n",
              "0  LP001015           Y\n",
              "1  LP001022           Y\n",
              "2  LP001031           Y\n",
              "3  LP001035           Y\n",
              "4  LP001051           Y"
            ],
            "text/html": [
              "\n",
              "  <div id=\"df-a51155fd-6d09-4a24-863a-15891c07c8f9\">\n",
              "    <div class=\"colab-df-container\">\n",
              "      <div>\n",
              "<style scoped>\n",
              "    .dataframe tbody tr th:only-of-type {\n",
              "        vertical-align: middle;\n",
              "    }\n",
              "\n",
              "    .dataframe tbody tr th {\n",
              "        vertical-align: top;\n",
              "    }\n",
              "\n",
              "    .dataframe thead th {\n",
              "        text-align: right;\n",
              "    }\n",
              "</style>\n",
              "<table border=\"1\" class=\"dataframe\">\n",
              "  <thead>\n",
              "    <tr style=\"text-align: right;\">\n",
              "      <th></th>\n",
              "      <th>Loan_ID</th>\n",
              "      <th>Loan_Status</th>\n",
              "    </tr>\n",
              "  </thead>\n",
              "  <tbody>\n",
              "    <tr>\n",
              "      <th>0</th>\n",
              "      <td>LP001015</td>\n",
              "      <td>Y</td>\n",
              "    </tr>\n",
              "    <tr>\n",
              "      <th>1</th>\n",
              "      <td>LP001022</td>\n",
              "      <td>Y</td>\n",
              "    </tr>\n",
              "    <tr>\n",
              "      <th>2</th>\n",
              "      <td>LP001031</td>\n",
              "      <td>Y</td>\n",
              "    </tr>\n",
              "    <tr>\n",
              "      <th>3</th>\n",
              "      <td>LP001035</td>\n",
              "      <td>Y</td>\n",
              "    </tr>\n",
              "    <tr>\n",
              "      <th>4</th>\n",
              "      <td>LP001051</td>\n",
              "      <td>Y</td>\n",
              "    </tr>\n",
              "  </tbody>\n",
              "</table>\n",
              "</div>\n",
              "      <button class=\"colab-df-convert\" onclick=\"convertToInteractive('df-a51155fd-6d09-4a24-863a-15891c07c8f9')\"\n",
              "              title=\"Convert this dataframe to an interactive table.\"\n",
              "              style=\"display:none;\">\n",
              "        \n",
              "  <svg xmlns=\"http://www.w3.org/2000/svg\" height=\"24px\"viewBox=\"0 0 24 24\"\n",
              "       width=\"24px\">\n",
              "    <path d=\"M0 0h24v24H0V0z\" fill=\"none\"/>\n",
              "    <path d=\"M18.56 5.44l.94 2.06.94-2.06 2.06-.94-2.06-.94-.94-2.06-.94 2.06-2.06.94zm-11 1L8.5 8.5l.94-2.06 2.06-.94-2.06-.94L8.5 2.5l-.94 2.06-2.06.94zm10 10l.94 2.06.94-2.06 2.06-.94-2.06-.94-.94-2.06-.94 2.06-2.06.94z\"/><path d=\"M17.41 7.96l-1.37-1.37c-.4-.4-.92-.59-1.43-.59-.52 0-1.04.2-1.43.59L10.3 9.45l-7.72 7.72c-.78.78-.78 2.05 0 2.83L4 21.41c.39.39.9.59 1.41.59.51 0 1.02-.2 1.41-.59l7.78-7.78 2.81-2.81c.8-.78.8-2.07 0-2.86zM5.41 20L4 18.59l7.72-7.72 1.47 1.35L5.41 20z\"/>\n",
              "  </svg>\n",
              "      </button>\n",
              "      \n",
              "  <style>\n",
              "    .colab-df-container {\n",
              "      display:flex;\n",
              "      flex-wrap:wrap;\n",
              "      gap: 12px;\n",
              "    }\n",
              "\n",
              "    .colab-df-convert {\n",
              "      background-color: #E8F0FE;\n",
              "      border: none;\n",
              "      border-radius: 50%;\n",
              "      cursor: pointer;\n",
              "      display: none;\n",
              "      fill: #1967D2;\n",
              "      height: 32px;\n",
              "      padding: 0 0 0 0;\n",
              "      width: 32px;\n",
              "    }\n",
              "\n",
              "    .colab-df-convert:hover {\n",
              "      background-color: #E2EBFA;\n",
              "      box-shadow: 0px 1px 2px rgba(60, 64, 67, 0.3), 0px 1px 3px 1px rgba(60, 64, 67, 0.15);\n",
              "      fill: #174EA6;\n",
              "    }\n",
              "\n",
              "    [theme=dark] .colab-df-convert {\n",
              "      background-color: #3B4455;\n",
              "      fill: #D2E3FC;\n",
              "    }\n",
              "\n",
              "    [theme=dark] .colab-df-convert:hover {\n",
              "      background-color: #434B5C;\n",
              "      box-shadow: 0px 1px 3px 1px rgba(0, 0, 0, 0.15);\n",
              "      filter: drop-shadow(0px 1px 2px rgba(0, 0, 0, 0.3));\n",
              "      fill: #FFFFFF;\n",
              "    }\n",
              "  </style>\n",
              "\n",
              "      <script>\n",
              "        const buttonEl =\n",
              "          document.querySelector('#df-a51155fd-6d09-4a24-863a-15891c07c8f9 button.colab-df-convert');\n",
              "        buttonEl.style.display =\n",
              "          google.colab.kernel.accessAllowed ? 'block' : 'none';\n",
              "\n",
              "        async function convertToInteractive(key) {\n",
              "          const element = document.querySelector('#df-a51155fd-6d09-4a24-863a-15891c07c8f9');\n",
              "          const dataTable =\n",
              "            await google.colab.kernel.invokeFunction('convertToInteractive',\n",
              "                                                     [key], {});\n",
              "          if (!dataTable) return;\n",
              "\n",
              "          const docLinkHtml = 'Like what you see? Visit the ' +\n",
              "            '<a target=\"_blank\" href=https://colab.research.google.com/notebooks/data_table.ipynb>data table notebook</a>'\n",
              "            + ' to learn more about interactive tables.';\n",
              "          element.innerHTML = '';\n",
              "          dataTable['output_type'] = 'display_data';\n",
              "          await google.colab.output.renderOutput(dataTable, element);\n",
              "          const docLink = document.createElement('div');\n",
              "          docLink.innerHTML = docLinkHtml;\n",
              "          element.appendChild(docLink);\n",
              "        }\n",
              "      </script>\n",
              "    </div>\n",
              "  </div>\n",
              "  "
            ]
          },
          "metadata": {},
          "execution_count": 311
        }
      ]
    },
    {
      "cell_type": "code",
      "source": [
        "test_final_with_dec_tr_df['Loan_Status'].value_counts()"
      ],
      "metadata": {
        "colab": {
          "base_uri": "https://localhost:8080/"
        },
        "id": "ShxTIQpdC4nL",
        "outputId": "3c25e095-8b6b-4a6c-e8e9-ad3d1969c8c2"
      },
      "execution_count": 312,
      "outputs": [
        {
          "output_type": "execute_result",
          "data": {
            "text/plain": [
              "Y    302\n",
              "N     65\n",
              "Name: Loan_Status, dtype: int64"
            ]
          },
          "metadata": {},
          "execution_count": 312
        }
      ]
    },
    {
      "cell_type": "code",
      "source": [
        "# kết quả thực nghiệm\n",
        "sns.countplot(x='Loan_Status', data=test_final_with_dec_tr_df)"
      ],
      "metadata": {
        "colab": {
          "base_uri": "https://localhost:8080/",
          "height": 297
        },
        "id": "4Q3QPjZwDBIN",
        "outputId": "ef21e801-8385-4c7c-d191-8b94c25b8411"
      },
      "execution_count": 313,
      "outputs": [
        {
          "output_type": "execute_result",
          "data": {
            "text/plain": [
              "<matplotlib.axes._subplots.AxesSubplot at 0x7fb92df96fd0>"
            ]
          },
          "metadata": {},
          "execution_count": 313
        },
        {
          "output_type": "display_data",
          "data": {
            "text/plain": [
              "<Figure size 432x288 with 1 Axes>"
            ],
            "image/png": "[encoded data removed]"
          },
          "metadata": {
            "needs_background": "light"
          }
        }
      ]
    },
    {
      "cell_type": "markdown",
      "source": [
        "Sau khi thực nghiệm bằng DecisionTreeClassifier ta thấy số lượng được chấp nhận cho vay là 302 và không được vay là 65"
      ],
      "metadata": {
        "id": "ezwmWbqyDHHw"
      }
    }
  ]
}